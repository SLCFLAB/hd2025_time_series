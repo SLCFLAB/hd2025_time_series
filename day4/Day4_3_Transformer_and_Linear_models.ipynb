{
 "cells": [
  {
   "cell_type": "markdown",
   "metadata": {
    "id": "eXY0weKziRS2"
   },
   "source": [
    "## **Time Series 딥러닝 학습 예제**\n",
    "\n",
    "참고: https://github.com/thuml/Time-Series-Library\n",
    "\n"
   ]
  },
  {
   "cell_type": "markdown",
   "metadata": {
    "id": "rAl2BH_kjxn3"
   },
   "source": [
    "#### **Github에서 .py 파일 다운로드**"
   ]
  },
  {
   "cell_type": "code",
   "execution_count": null,
   "metadata": {
    "colab": {
     "base_uri": "https://localhost:8080/"
    },
    "id": "NJjAr5avh8Gy",
    "outputId": "2cf8447c-a901-4832-f3db-d8850f64ffe0"
   },
   "outputs": [],
   "source": [
    "!git clone https://github.com/SLCFLAB/hd2025_time_series.git\n",
    "%cd hd2025_time_series/day4"
   ]
  },
  {
   "cell_type": "markdown",
   "metadata": {
    "id": "xOgarhlljw7r"
   },
   "source": [
    "#### **원하는 학습 파라미터 지정**"
   ]
  },
  {
   "cell_type": "code",
   "execution_count": null,
   "metadata": {
    "colab": {
     "base_uri": "https://localhost:8080/"
    },
    "id": "obZh4U7BiAki",
    "outputId": "c9a86747-8a36-44d8-9ffc-e7ea01602876"
   },
   "outputs": [],
   "source": [
    "import numpy as np\n",
    "import argparse\n",
    "from exp.exp_main import Exp_Main\n",
    "import random\n",
    "import torch\n",
    "\n",
    "fix_seed = 2021\n",
    "random.seed(fix_seed)\n",
    "torch.manual_seed(fix_seed)\n",
    "np.random.seed(fix_seed)\n",
    "\n",
    "parser = argparse.ArgumentParser(description='HD')\n",
    "\n",
    "parser.add_argument('--model', type=str, default='Informer')\n",
    "parser.add_argument('--seq_len', type=int, default=48, help='input sequence length')\n",
    "parser.add_argument('--label_len', type=int, default=24, help='start token length')\n",
    "parser.add_argument('--pred_len', type=int, default=48, help='prediction sequence length')\n",
    "\n",
    "args = parser.parse_args(args=[])\n",
    "args.use_gpu = True if torch.cuda.is_available() else False\n",
    "\n",
    "print('Args in experiment:')\n",
    "print(args)"
   ]
  },
  {
   "cell_type": "markdown",
   "metadata": {
    "id": "r-aF0oEKj-AE"
   },
   "source": [
    "#### **모델 학습**"
   ]
  },
  {
   "cell_type": "code",
   "execution_count": null,
   "metadata": {
    "colab": {
     "base_uri": "https://localhost:8080/"
    },
    "id": "-enfT72OiDTH",
    "outputId": "419a3c48-8fac-4f98-c52f-ebf1c8b430a1"
   },
   "outputs": [],
   "source": [
    "Exp = Exp_Main\n",
    "exp = Exp(args)\n",
    "setting = '{}_sl{}_pl{}'.format(args.model, args.seq_len, args.pred_len)\n",
    "exp.train(setting)"
   ]
  },
  {
   "cell_type": "code",
   "execution_count": null,
   "metadata": {
    "colab": {
     "base_uri": "https://localhost:8080/"
    },
    "id": "IYsh0NcjiGoA",
    "outputId": "e8193499-e007-47c2-d869-a567cc704756"
   },
   "outputs": [],
   "source": [
    "preds, trues, inputx = exp.test(setting)\n",
    "torch.cuda.empty_cache()"
   ]
  },
  {
   "cell_type": "code",
   "execution_count": null,
   "metadata": {
    "colab": {
     "base_uri": "https://localhost:8080/"
    },
    "id": "F_07SPwBiw-w",
    "outputId": "e502b297-be58-4c55-ecb5-5b211d503aeb"
   },
   "outputs": [],
   "source": [
    "parser = argparse.ArgumentParser(description='HD')\n",
    "\n",
    "parser.add_argument('--model', type=str, default='DLinear')\n",
    "parser.add_argument('--seq_len', type=int, default=48, help='input sequence length')\n",
    "parser.add_argument('--label_len', type=int, default=24, help='start token length')\n",
    "parser.add_argument('--pred_len', type=int, default=48, help='prediction sequence length')\n",
    "\n",
    "args = parser.parse_args(args=[])\n",
    "args.use_gpu = True if torch.cuda.is_available() else False\n",
    "\n",
    "print('Args in experiment:')\n",
    "print(args)"
   ]
  },
  {
   "cell_type": "code",
   "execution_count": null,
   "metadata": {
    "colab": {
     "base_uri": "https://localhost:8080/"
    },
    "id": "o1-HYtdrjKDA",
    "outputId": "36d092d4-1f81-4b8b-c314-012e758af2b2"
   },
   "outputs": [],
   "source": [
    "Exp = Exp_Main\n",
    "exp = Exp(args)\n",
    "setting = '{}_sl{}_pl{}'.format(args.model, args.seq_len, args.pred_len)\n",
    "exp.train(setting)"
   ]
  },
  {
   "cell_type": "code",
   "execution_count": null,
   "metadata": {
    "colab": {
     "base_uri": "https://localhost:8080/"
    },
    "id": "JYyFkQrQjKzA",
    "outputId": "082fd642-87da-42e7-9e94-5e466ca83376"
   },
   "outputs": [],
   "source": [
    "preds2, trues2, inputx2 = exp.test(setting)\n",
    "torch.cuda.empty_cache()"
   ]
  },
  {
   "cell_type": "markdown",
   "metadata": {
    "id": "S3sNOy5-kGwP"
   },
   "source": [
    "#### **모델 간 비교**"
   ]
  },
  {
   "cell_type": "code",
   "execution_count": null,
   "metadata": {
    "colab": {
     "base_uri": "https://localhost:8080/",
     "height": 452
    },
    "id": "mPdoNxC2jSgk",
    "outputId": "87458ad0-5bf9-4a98-f382-a8b7e810abb3"
   },
   "outputs": [],
   "source": [
    "import matplotlib.pyplot as plt\n",
    "%matplotlib inline\n",
    "\n",
    "plt.title('Informer VS DLinear')\n",
    "plt.plot(np.arange(args.seq_len),inputx2[0,:,0], label='True', c='k')\n",
    "plt.plot(np.arange(args.pred_len)+args.seq_len,trues2[0,:,0], c='k')\n",
    "plt.plot(np.arange(args.pred_len)+args.seq_len,preds[0,:,0], label='Informer')\n",
    "plt.plot(np.arange(args.pred_len)+args.seq_len,preds2[0,:,0], label='DLinear', c='r')\n",
    "plt.legend()\n",
    "plt.show()"
   ]
  }
 ],
 "metadata": {
  "accelerator": "GPU",
  "colab": {
   "authorship_tag": "ABX9TyOIEH5UuyJWXHp0cIU2FtFD",
   "gpuType": "T4",
   "include_colab_link": true,
   "provenance": []
  },
  "kernelspec": {
   "display_name": "Python 3 (ipykernel)",
   "language": "python",
   "name": "python3"
  },
  "language_info": {
   "codemirror_mode": {
    "name": "ipython",
    "version": 3
   },
   "file_extension": ".py",
   "mimetype": "text/x-python",
   "name": "python",
   "nbconvert_exporter": "python",
   "pygments_lexer": "ipython3",
   "version": "3.11.11"
  }
 },
 "nbformat": 4,
 "nbformat_minor": 4
}
