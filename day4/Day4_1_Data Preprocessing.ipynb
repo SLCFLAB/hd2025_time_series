{
  "cells": [
    {
      "cell_type": "markdown",
      "metadata": {
        "id": "view-in-github",
        "colab_type": "text"
      },
      "source": [
        "<a href=\"https://colab.research.google.com/github/SLCFLAB/hd2025_time_series/blob/main/day4/Day4_1_Data%20Preprocessing.ipynb\" target=\"_parent\"><img src=\"https://colab.research.google.com/assets/colab-badge.svg\" alt=\"Open In Colab\"/></a>"
      ]
    },
    {
      "cell_type": "code",
      "execution_count": null,
      "id": "03f59dee",
      "metadata": {
        "id": "03f59dee"
      },
      "outputs": [],
      "source": [
        "import pandas as pd\n",
        "import matplotlib.pyplot as plt"
      ]
    },
    {
      "cell_type": "markdown",
      "id": "2xwHxpepPgFC",
      "metadata": {
        "id": "2xwHxpepPgFC"
      },
      "source": [
        "## Raw Data 불러오기\n",
        "\n"
      ]
    },
    {
      "cell_type": "code",
      "execution_count": null,
      "id": "d437c828",
      "metadata": {
        "id": "d437c828"
      },
      "outputs": [],
      "source": [
        "data_gold = pd.read_csv('https://raw.githubusercontent.com/SLCFLAB/hd2025_time_series/refs/heads/main/day4/dataset/Gold_Futures_Historical_Data.csv',thousands = ',')\n",
        "data_gold"
      ]
    },
    {
      "cell_type": "markdown",
      "id": "43VraT65Pvx2",
      "metadata": {
        "id": "43VraT65Pvx2"
      },
      "source": [
        "## 원하는 컬럼만 추출하기"
      ]
    },
    {
      "cell_type": "code",
      "execution_count": null,
      "id": "c7aad212",
      "metadata": {
        "id": "c7aad212"
      },
      "outputs": [],
      "source": [
        "data_gold = data_gold[['Date','Price']]\n",
        "data_gold = data_gold.astype({'Price':'float64'})\n",
        "data_gold['Date'] = pd.to_datetime(data_gold['Date'], format='%m/%d/%Y')\n",
        "data_gold.sort_values(by='Date', inplace=True)\n",
        "data_gold"
      ]
    },
    {
      "cell_type": "markdown",
      "id": "NoAb1sNqP1Fd",
      "metadata": {
        "id": "NoAb1sNqP1Fd"
      },
      "source": [
        "## Silver Data에 대해 똑같이 전처리"
      ]
    },
    {
      "cell_type": "code",
      "execution_count": null,
      "id": "b63c7229",
      "metadata": {
        "id": "b63c7229"
      },
      "outputs": [],
      "source": [
        "data_silver = pd.read_csv('https://raw.githubusercontent.com/SLCFLAB/hd2025_time_series/refs/heads/main/day4/dataset/Silver_Futures_Historical_Data.csv',thousands = ',')\n",
        "data_silver = data_silver[['Date','Price']]\n",
        "data_silver = data_silver.astype({'Price':'float64'})\n",
        "data_silver['Date'] = pd.to_datetime(data_silver['Date'], format='%m/%d/%Y')\n",
        "data_silver.sort_values(by='Date', inplace=True)\n",
        "data_silver"
      ]
    },
    {
      "cell_type": "markdown",
      "id": "yPdh6EziQALu",
      "metadata": {
        "id": "yPdh6EziQALu"
      },
      "source": [
        "## Gold, Silver 데이터 합치기"
      ]
    },
    {
      "cell_type": "code",
      "execution_count": null,
      "id": "b8b43d55",
      "metadata": {
        "id": "b8b43d55"
      },
      "outputs": [],
      "source": [
        "df=pd.merge(data_gold, data_silver, on='Date', how='outer', suffixes=('_gold', '_silver'))\n",
        "df"
      ]
    },
    {
      "cell_type": "markdown",
      "id": "PA29IflNQDG7",
      "metadata": {
        "id": "PA29IflNQDG7"
      },
      "source": [
        "## 데이터 속 Null 값에 대한 전처리"
      ]
    },
    {
      "cell_type": "code",
      "execution_count": null,
      "id": "d7a4234d",
      "metadata": {
        "id": "d7a4234d"
      },
      "outputs": [],
      "source": [
        "df[df['Price_silver'].isna()]"
      ]
    },
    {
      "cell_type": "code",
      "execution_count": null,
      "id": "704b5003",
      "metadata": {
        "id": "704b5003"
      },
      "outputs": [],
      "source": [
        "df.fillna(method='ffill',inplace=True)\n",
        "df"
      ]
    },
    {
      "cell_type": "markdown",
      "id": "WwCT7p2AQNVi",
      "metadata": {
        "id": "WwCT7p2AQNVi"
      },
      "source": [
        "## 모델에 적합한 형태로 데이터 변형하기"
      ]
    },
    {
      "cell_type": "code",
      "execution_count": null,
      "id": "3a34d947",
      "metadata": {
        "id": "3a34d947"
      },
      "outputs": [],
      "source": [
        "data_gold"
      ]
    },
    {
      "cell_type": "code",
      "execution_count": null,
      "id": "d3afaa7a",
      "metadata": {
        "id": "d3afaa7a"
      },
      "outputs": [],
      "source": [
        "data_gold.reset_index(inplace=True,drop=True)\n",
        "data_gold.reset_index(inplace=True)\n",
        "data_gold.drop(columns=['Date'],inplace=True)\n",
        "data_gold.columns = ['ds','y']\n",
        "data_gold['unique_id'] = 'gold'\n",
        "data_gold"
      ]
    },
    {
      "cell_type": "code",
      "execution_count": null,
      "id": "b464316d",
      "metadata": {
        "id": "b464316d"
      },
      "outputs": [],
      "source": [
        "data_silver = df[['Date','Price_silver']].copy()\n",
        "data_silver"
      ]
    },
    {
      "cell_type": "code",
      "execution_count": null,
      "id": "42ad2b83",
      "metadata": {
        "id": "42ad2b83"
      },
      "outputs": [],
      "source": [
        "data_silver.reset_index(inplace=True,drop=True)\n",
        "data_silver.reset_index(inplace=True)\n",
        "data_silver.drop(columns=['Date'],inplace=True)\n",
        "data_silver.columns = ['ds','y']\n",
        "data_silver['unique_id'] = 'silver'\n",
        "data_silver"
      ]
    }
  ],
  "metadata": {
    "colab": {
      "provenance": [],
      "include_colab_link": true
    },
    "kernelspec": {
      "display_name": "Python 3 (ipykernel)",
      "language": "python",
      "name": "python3"
    },
    "language_info": {
      "codemirror_mode": {
        "name": "ipython",
        "version": 3
      },
      "file_extension": ".py",
      "mimetype": "text/x-python",
      "name": "python",
      "nbconvert_exporter": "python",
      "pygments_lexer": "ipython3",
      "version": "3.11.11"
    }
  },
  "nbformat": 4,
  "nbformat_minor": 5
}