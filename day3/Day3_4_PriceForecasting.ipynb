{
  "cells": [
    {
      "cell_type": "markdown",
      "metadata": {
        "id": "view-in-github",
        "colab_type": "text"
      },
      "source": [
        "<a href=\"https://colab.research.google.com/github/SLCFLAB/hd2025_time_series/blob/main/day3/Day3_4_PriceForecasting.ipynb\" target=\"_parent\"><img src=\"https://colab.research.google.com/assets/colab-badge.svg\" alt=\"Open In Colab\"/></a>"
      ]
    },
    {
      "cell_type": "markdown",
      "metadata": {
        "id": "4AtyLcT5kfF0"
      },
      "source": [
        "## 금 가격 예측을 위한 시계열 분석 모델 실습\n",
        "\n",
        "`neuralforecast`의 `cross_validation` 기능을 활용하여 ARIMA, RNN, LSTM, CNN, NHITS, NBEATS 모델의 1일 롤링 예측 성능을 효율적으로 평가하고 비교 분석합니다."
      ]
    },
    {
      "cell_type": "markdown",
      "metadata": {
        "id": "SLzAwAnWkfF0"
      },
      "source": [
        "### 1. 라이브러리 설치"
      ]
    },
    {
      "cell_type": "code",
      "execution_count": null,
      "metadata": {
        "id": "VrGTapY_kfF0"
      },
      "outputs": [],
      "source": [
        "!pip install neuralforecast statsforecast -q"
      ]
    },
    {
      "cell_type": "markdown",
      "metadata": {
        "id": "nGH0Ohq1kfF1"
      },
      "source": [
        "### 2. 라이브러리 임포트"
      ]
    },
    {
      "cell_type": "code",
      "execution_count": null,
      "metadata": {
        "id": "r2o4Bd8gkfF1"
      },
      "outputs": [],
      "source": [
        "import pandas as pd\n",
        "import numpy as np\n",
        "import matplotlib.pyplot as plt\n",
        "\n",
        "from neuralforecast import NeuralForecast\n",
        "from neuralforecast.models import RNN, LSTM, NHITS, NBEATS, TCN\n",
        "from statsforecast import StatsForecast\n",
        "from statsforecast.models import AutoARIMA\n",
        "\n",
        "from sklearn.preprocessing import MinMaxScaler\n",
        "from sklearn.metrics import mean_absolute_error"
      ]
    },
    {
      "cell_type": "markdown",
      "metadata": {
        "id": "SQ1ByMWTkfF1"
      },
      "source": [
        "### 3. 데이터 준비\n",
        "\n",
        "금 가격 데이터를 불러와 전처리 및 정규화를 수행합니다. `cross_validation` 함수는 내부적으로 데이터를 분할하므로, 전체 데이터를 사용합니다."
      ]
    },
    {
      "cell_type": "code",
      "execution_count": null,
      "metadata": {
        "id": "Yz32MAUXkfF1"
      },
      "outputs": [],
      "source": [
        "# 데이터 불러오기\n",
        "url = 'https://raw.githubusercontent.com/SLCFLAB/hd2025_time_series/refs/heads/main/day4/dataset/gold.csv'\n",
        "df = pd.read_csv(url)\n",
        "\n",
        "# 데이터 전처리\n",
        "df = df.rename(columns={'Date': 'ds', 'Close': 'y'})\n",
        "df['unique_id'] = 'gold'\n",
        "df = df[['unique_id', 'ds', 'y']]\n",
        "\n",
        "# 역정규화를 위해 원본 데이터 복사\n",
        "df_unscaled = df.copy()\n",
        "\n",
        "# 데이터 정규화\n",
        "scaler = MinMaxScaler()\n",
        "df['y'] = scaler.fit_transform(df['y'].values.reshape(-1,1))\n",
        "\n",
        "# 훈련/테스트 분할 비율 설정 (실제 분할은 cross_validation에서 수행)\n",
        "train_size = int(len(df) * 0.8)\n",
        "test_size = len(df) - train_size"
      ]
    },
    {
      "cell_type": "markdown",
      "metadata": {
        "id": "d_0drIDMkfF1"
      },
      "source": [
        "### 4. 모델 정의 및 롤링 예측 (Cross Validation 활용)\n",
        "\n",
        "`cross_validation` 함수를 사용하여 롤링 예측 백테스트를 수행합니다. `horizon=1`로 설정하고 `step_size=1`로 설정하여 매일 모델을 업데이트하며 다음 날을 예측합니다."
      ]
    },
    {
      "cell_type": "code",
      "execution_count": null,
      "metadata": {
        "id": "X8RMXTt9kfF1"
      },
      "outputs": [],
      "source": [
        "horizon = 5\n",
        "input_size = 30 # 예측을 위해 30일 전 데이터까지 참고\n",
        "\n",
        "# 신경망 모델 정의\n",
        "neural_models = [\n",
        "    RNN(h=horizon, input_size=input_size, encoder_hidden_size=50, max_steps=100),\n",
        "    LSTM(h=horizon, input_size=input_size, encoder_hidden_size=50, max_steps=100),\n",
        "    TCN(h=horizon, input_size=input_size, encoder_hidden_size=50, max_steps=100), ## CNN의 Time Series 특화 버전\n",
        "    NBEATS(h=horizon, input_size=input_size, max_steps=100),\n",
        "    NHITS(h=horizon, input_size=input_size, max_steps=100)\n",
        "]\n",
        "\n",
        "# NeuralForecast로 롤링 예측 수행\n",
        "nf = NeuralForecast(models=neural_models, freq=1)\n",
        "nf_preds_df = nf.cross_validation(df=df, test_size=test_size, step_size=1, n_windows=None)\n",
        "\n",
        "# ARIMA 모델 정의 및 롤링 예측 수행\n",
        "sf = StatsForecast(models=[AutoARIMA()], freq=1)\n",
        "sf_preds_df = sf.cross_validation(df=df, h = horizon, test_size=test_size, step_size=1, n_windows=None)\n",
        "\n",
        "# 예측 결과 병합\n",
        "preds_df = pd.merge(nf_preds_df, sf_preds_df, on=['ds', 'unique_id', 'cutoff', 'y'])"
      ]
    },
    {
      "cell_type": "code",
      "execution_count": null,
      "metadata": {
        "id": "Ro1iOko1kfF2"
      },
      "outputs": [],
      "source": [
        "preds_df = preds_df[preds_df['ds']-preds_df['cutoff']==1]"
      ]
    },
    {
      "cell_type": "code",
      "execution_count": null,
      "metadata": {
        "id": "P4_Zb-nckfF2"
      },
      "outputs": [],
      "source": [
        "preds_df"
      ]
    },
    {
      "cell_type": "markdown",
      "metadata": {
        "id": "vKZWukg_kfF2"
      },
      "source": [
        "### 5. 결과 시각화 및 평가\n",
        "\n",
        "`cross_validation`을 통해 얻은 롤링 예측 결과를 시각화하고, MAE를 계산하여 모델별 성능을 비교합니다."
      ]
    },
    {
      "cell_type": "code",
      "execution_count": null,
      "metadata": {
        "id": "IXjAc7VHkfF2"
      },
      "outputs": [],
      "source": [
        "# 예측 결과 역정규화\n",
        "for col in preds_df.columns:\n",
        "    if col not in ['ds', 'unique_id', 'cutoff']:\n",
        "        preds_df[col] = scaler.inverse_transform(preds_df[col].values.reshape(-1,1))\n",
        "\n",
        "# 시각화를 위해 실제 값과 예측 값 분리\n",
        "y_true_df = df_unscaled[train_size:]\n",
        "y_preds_df = preds_df.set_index('ds')\n",
        "\n",
        "# 시각화\n",
        "plt.figure(figsize=(14, 8))\n",
        "plt.plot(y_preds_df.index, y_preds_df['y'], label='Actual')\n",
        "for model in ['AutoARIMA', 'RNN', 'LSTM', 'TCN', 'NBEATS', 'NHITS']:\n",
        "    plt.plot(y_preds_df.index, y_preds_df[model], label=model)\n",
        "\n",
        "plt.title('Gold Price 1-Day Rolling Forecast (Optimized)')\n",
        "plt.xlabel('Date')\n",
        "plt.ylabel('Price')\n",
        "plt.legend()\n",
        "plt.show()\n",
        "\n",
        "# 성능 평가\n",
        "mae_scores = {}\n",
        "y_true = preds_df['y'].values\n",
        "\n",
        "for model in ['AutoARIMA', 'RNN', 'LSTM', 'TCN', 'NBEATS', 'NHITS']:\n",
        "    y_pred = preds_df[model].values\n",
        "    mae = mean_absolute_error(y_true, y_pred)\n",
        "    mae_scores[model] = mae\n",
        "    print(f'{model} MAE: {mae:.4f}')\n",
        "\n",
        "# 성능 비교 시각화\n",
        "plt.figure(figsize=(10, 6))\n",
        "pd.Series(mae_scores).sort_values().plot(kind='barh')\n",
        "plt.title('Model MAE Comparison (1-Day Rolling Forecast)')\n",
        "plt.xlabel('Mean Absolute Error')\n",
        "plt.show()"
      ]
    }
  ],
  "metadata": {
    "kernelspec": {
      "display_name": "Python 3",
      "name": "python3"
    },
    "language_info": {
      "codemirror_mode": {
        "name": "ipython",
        "version": 3
      },
      "file_extension": ".py",
      "mimetype": "text/x-python",
      "name": "python",
      "nbconvert_exporter": "python",
      "pygments_lexer": "ipython3",
      "version": "3.11.11"
    },
    "colab": {
      "provenance": [],
      "gpuType": "T4",
      "include_colab_link": true
    },
    "accelerator": "GPU"
  },
  "nbformat": 4,
  "nbformat_minor": 0
}