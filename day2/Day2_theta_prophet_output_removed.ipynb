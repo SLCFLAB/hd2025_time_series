{
  "nbformat": 4,
  "nbformat_minor": 0,
  "metadata": {
    "colab": {
      "provenance": [],
      "authorship_tag": "ABX9TyNsM1yq8VGfcBH4KY8SriGd",
      "include_colab_link": true
    },
    "kernelspec": {
      "name": "python3",
      "display_name": "Python 3"
    },
    "language_info": {
      "name": "python"
    }
  },
  "cells": [
    {
      "cell_type": "markdown",
      "metadata": {
        "id": "view-in-github",
        "colab_type": "text"
      },
      "source": [
        "<a href=\"https://colab.research.google.com/github/SLCFLAB/hd2025_time_series/blob/main/day2/Day2_theta_prophet_output_removed.ipynb\" target=\"_parent\"><img src=\"https://colab.research.google.com/assets/colab-badge.svg\" alt=\"Open In Colab\"/></a>"
      ]
    },
    {
      "cell_type": "markdown",
      "source": [
        "# Theta Model 시계열 분석 실습 1\n",
        "\n",
        "Theta Model은 간단하면서도 강력한 시계열 예측 방법입니다.\n",
        "\n",
        "주요 특징:\n",
        "- 2000년 M3 Competition에서 우수한 성과\n",
        "- SES(Simple Exponential Smoothing)와 Linear Trend의 조합\n",
        "- Theta 파라미터로 예측의 곡률(curvature) 조정\n",
        "- 빠른 계산 속도와 해석 용이성\n",
        "\n",
        "Theta 파라미터:\n",
        "- theta = 1: Linear trend\n",
        "- theta = 2: Classical Theta (default)\n",
        "- theta > 2: 더 강한 추세\n",
        "- theta = ∞: Pure linear extrapolation\n",
        "\n",
        "본 실습에서는 경제 지표 예측에 theta model을 활용해 보겠습니다.\n",
        "참고: https://www.statsmodels.org/dev/examples/notebooks/generated/theta-model.html"
      ],
      "metadata": {
        "id": "R0_kzGlfBGI0"
      }
    },
    {
      "cell_type": "markdown",
      "source": [
        "## 1. 라이브러리 로드 및 설정"
      ],
      "metadata": {
        "id": "UjEBSGqmBQ52"
      }
    },
    {
      "cell_type": "code",
      "source": [
        "import numpy as np\n",
        "import pandas as pd\n",
        "import matplotlib.pyplot as plt\n",
        "import seaborn as sns\n",
        "import pandas_datareader as pdr\n",
        "from statsmodels.tsa.forecasting.theta import ThetaModel\n",
        "from sklearn.metrics import mean_absolute_error, mean_squared_error, mean_absolute_percentage_error, root_mean_squared_error\n",
        "import warnings\n",
        "warnings.filterwarnings('ignore')\n",
        "\n",
        "# 시각화 설정\n",
        "plt.rcParams['figure.figsize'] = (16, 8)\n",
        "plt.rcParams['font.size'] = 12\n",
        "plt.rcParams['lines.linewidth'] = 2\n",
        "plt.rcParams['axes.unicode_minus'] = False\n",
        "sns.set_style(\"whitegrid\")\n",
        "sns.set_palette(\"husl\")"
      ],
      "metadata": {
        "id": "HGFyCTMFBNyI"
      },
      "execution_count": null,
      "outputs": []
    },
    {
      "cell_type": "markdown",
      "source": [
        "## 2. 데이터 로드 - 주택 착공 건수 (Housing Starts)\n",
        "\n",
        "\n",
        "출처: FRED (Federal Reserve Economic Data)\n",
        "\n",
        "코드: HOUST (Housing Starts: Total: New Privately Owned)\n",
        "\n",
        "기간: 1980-01 ~ 2020-04\n",
        "\n",
        "빈도: Monthly"
      ],
      "metadata": {
        "id": "o4YpSxQWBoE4"
      }
    },
    {
      "cell_type": "code",
      "source": [
        "from urllib.parse import urljoin\n",
        "data_repo_url = \"https://raw.githubusercontent.com/SLCFLAB/hd2025_time_series/refs/heads/main/datasets/\"\n",
        "\n",
        "housing_data_path = urljoin(data_repo_url, \"housing_starts.csv\")\n",
        "housing = pd.read_csv(housing_data_path, index_col=0, parse_dates=True)\n",
        "housing.index.freq = housing.index.inferred_freq\n",
        "housing = housing.HOUST"
      ],
      "metadata": {
        "id": "_YsV4HRQDbwO"
      },
      "execution_count": null,
      "outputs": []
    },
    {
      "cell_type": "code",
      "source": [
        "housing.info()"
      ],
      "metadata": {
        "id": "mX7V4w0GDqyd"
      },
      "execution_count": null,
      "outputs": []
    },
    {
      "cell_type": "code",
      "source": [
        "housing.describe()"
      ],
      "metadata": {
        "id": "rQkC1kSkDt3U"
      },
      "execution_count": null,
      "outputs": []
    },
    {
      "cell_type": "code",
      "source": [
        "housing.isnull().sum()"
      ],
      "metadata": {
        "id": "8to6Xnt0DvGx"
      },
      "execution_count": null,
      "outputs": []
    },
    {
      "cell_type": "markdown",
      "source": [
        "## 3. EDA"
      ],
      "metadata": {
        "id": "M2DJCvhmD-Iq"
      }
    },
    {
      "cell_type": "code",
      "source": [
        "fig, axes = plt.subplots(2, 2, figsize=(16, 10))\n",
        "\n",
        "# 전체 시계열\n",
        "axes[0, 0].plot(housing.index, housing.values, color='darkblue', linewidth=2)\n",
        "axes[0, 0].set_title('Housing Starts - Full Time Series (1980-2020)',\n",
        "                      fontsize=14, fontweight='bold')\n",
        "axes[0, 0].set_xlabel('Date', fontsize=11)\n",
        "axes[0, 0].set_ylabel('Thousand Units', fontsize=11)\n",
        "axes[0, 0].grid(True, alpha=0.3)\n",
        "\n",
        "# 연도별 평균\n",
        "yearly_avg = housing.groupby(housing.index.year).mean()\n",
        "axes[0, 1].plot(yearly_avg.index, yearly_avg.values,\n",
        "                marker='o', markersize=6, color='darkred', linewidth=2)\n",
        "axes[0, 1].set_title('Annual Average Housing Starts', fontsize=14, fontweight='bold')\n",
        "axes[0, 1].set_xlabel('Year', fontsize=11)\n",
        "axes[0, 1].set_ylabel('Thousand Units', fontsize=11)\n",
        "axes[0, 1].grid(True, alpha=0.3)\n",
        "\n",
        "# 월별 박스플롯 (계절성 확인)\n",
        "monthly_data = pd.DataFrame({\n",
        "    'value': housing.values,\n",
        "    'month': housing.index.month\n",
        "})\n",
        "sns.boxplot(data=monthly_data, x='month', y='value', hue='month', ax=axes[1, 0], palette='Set2', legend=False)\n",
        "axes[1, 0].set_title('Seasonality Check - Monthly Distribution', fontsize=14, fontweight='bold')\n",
        "axes[1, 0].set_xlabel('Month', fontsize=11)\n",
        "axes[1, 0].set_ylabel('Thousand Units', fontsize=11)\n",
        "axes[1, 0].grid(True, alpha=0.3, axis='y')\n",
        "\n",
        "# 히스토그램\n",
        "axes[1, 1].hist(housing.values, bins=40, edgecolor='black', alpha=0.7, color='steelblue')\n",
        "axes[1, 1].set_title('Distribution of Housing Starts', fontsize=14, fontweight='bold')\n",
        "axes[1, 1].set_xlabel('Thousand Units', fontsize=11)\n",
        "axes[1, 1].set_ylabel('Frequency', fontsize=11)\n",
        "axes[1, 1].grid(True, alpha=0.3, axis='y')\n",
        "\n",
        "plt.tight_layout()\n",
        "plt.show()"
      ],
      "metadata": {
        "id": "t2jD-FWkEBZB"
      },
      "execution_count": null,
      "outputs": []
    },
    {
      "cell_type": "markdown",
      "source": [
        "## 4. 기본 Theta Model 적용\n",
        "\n",
        "| 파라미터      | 의미                      | 해석                                                                                            |\n",
        "| --------- | ----------------------- | --------------------------------------------------------------------------------------------- |\n",
        "| **b0**    | 추세(drift) 보정 상수         | 데이터의 장기적 증가/감소 방향을 보정하는 절편. 음수이면 약간의 하락 추세를 보정하는 역할.                                          |\n",
        "| **alpha** | SES의 평활화 계수 (0 < α < 1) | 최근 데이터에 얼마나 가중을 줄지 결정. <br> α가 높을수록 최근 관측치에 민감하고 예측이 빠르게 반응함. <br> α가 낮을수록 평활하고 장기적인 움직임에 중점. |\n"
      ],
      "metadata": {
        "id": "teiP7TeDFHZ2"
      }
    },
    {
      "cell_type": "code",
      "source": [
        "# 기본 Theta 모델 (theta=2, multiplicative method)\n",
        "tm = ThetaModel(housing)\n",
        "res = tm.fit()\n",
        "\n",
        "print(res.summary())"
      ],
      "metadata": {
        "id": "jK1L5mOWFJAN"
      },
      "execution_count": null,
      "outputs": []
    },
    {
      "cell_type": "code",
      "source": [
        "print(\"\\n주요 파라미터:\")\n",
        "print(f\"  Alpha (smoothing parameter): {res.params['alpha']:.4f}\")\n",
        "print(f\"  b0 (initial level): {res.params['b0']:.2f}\")\n",
        "print(f\"\\nTheta Model = (1-alpha) * SES + alpha * Linear Trend\")\n",
        "print(f\"Alpha = {res.params['alpha']:.4f} means {res.params['alpha']*100:.1f}% weight on trend component\")"
      ],
      "metadata": {
        "id": "2aoPxnAzFO3M"
      },
      "execution_count": null,
      "outputs": []
    },
    {
      "cell_type": "code",
      "source": [
        "# 예측 결과 확인\n",
        "forecast_12 = res.forecast(12)\n",
        "print(f\"\\n향후 12개월 예측:\")\n",
        "print(forecast_12.head())\n",
        "\n",
        "# 전체 시계열 시각화\n",
        "fig, axes = plt.subplots(2, 1, figsize=(16, 10))\n",
        "\n",
        "# 원본 데이터와 예측\n",
        "axes[0].plot(housing.index, housing.values, label='Actual',\n",
        "             color='black', linewidth=2, alpha=0.7)\n",
        "axes[0].plot(forecast_12.index, forecast_12.values, label='12-month Forecast',\n",
        "             color='red', linewidth=2, linestyle='--', marker='o', markersize=5)\n",
        "axes[0].axvline(x=housing.index[-1], color='green', linestyle=':',\n",
        "                linewidth=2, label='Forecast Start')\n",
        "axes[0].set_title('Theta Model - Historical Data and Forecast',\n",
        "                  fontsize=14, fontweight='bold')\n",
        "axes[0].set_xlabel('Date', fontsize=11)\n",
        "axes[0].set_ylabel('Thousand Units', fontsize=11)\n",
        "axes[0].legend(loc='upper left', fontsize=11)\n",
        "axes[0].grid(True, alpha=0.3)\n",
        "\n",
        "# 최근 5년 + 예측 확대\n",
        "recent = housing['2015':]\n",
        "axes[1].plot(recent.index, recent.values, label='Actual (Recent)',\n",
        "             color='black', linewidth=2.5, marker='o', markersize=4)\n",
        "axes[1].plot(forecast_12.index, forecast_12.values, label='Forecast',\n",
        "             color='red', linewidth=2.5, linestyle='--', marker='s', markersize=5)\n",
        "axes[1].axvline(x=housing.index[-1], color='green', linestyle=':',\n",
        "                linewidth=2, label='Forecast Start')\n",
        "axes[1].set_title('Theta Model - Recent Period and Forecast', fontsize=14, fontweight='bold')\n",
        "axes[1].set_xlabel('Date', fontsize=11)\n",
        "axes[1].set_ylabel('Thousand Units', fontsize=11)\n",
        "axes[1].legend(loc='upper left', fontsize=11)\n",
        "axes[1].grid(True, alpha=0.3)\n",
        "\n",
        "plt.tight_layout()\n",
        "plt.show()"
      ],
      "metadata": {
        "id": "1YXFT28eGRxr"
      },
      "execution_count": null,
      "outputs": []
    },
    {
      "cell_type": "markdown",
      "source": [
        "## 5. 5. 백테스팅 (Backtesting) - 시간에 따른 예측 성능\n",
        "\n",
        "1995년부터 2년 간격으로 24개월 예측을 수행합니다."
      ],
      "metadata": {
        "id": "F_51VdYXIBI_"
      }
    },
    {
      "cell_type": "code",
      "source": [
        "# 각 시점에서 24개월 예측\n",
        "forecasts = {\"Actual\": housing}\n",
        "performance_metrics = []\n",
        "\n",
        "for year in range(1995, 2020, 2):\n",
        "    # 해당 연도까지의 데이터로 모델 학습\n",
        "    sub = housing[: str(year)]\n",
        "    res_sub = ThetaModel(sub).fit()\n",
        "\n",
        "    # 24개월 예측\n",
        "    fcast = res_sub.forecast(24)\n",
        "    forecasts[str(year)] = fcast\n",
        "\n",
        "    # 성능 평가 (예측 기간과 실제 데이터가 겹치는 부분)\n",
        "    actual_period = housing[fcast.index[0]:fcast.index[-1]]\n",
        "    if len(actual_period) > 0:\n",
        "        mae = mean_absolute_error(actual_period, fcast[:len(actual_period)])\n",
        "        rmse = root_mean_squared_error(actual_period, fcast[:len(actual_period)])\n",
        "        performance_metrics.append({\n",
        "            'Year': year,\n",
        "            'MAE': mae,\n",
        "            'RMSE': rmse\n",
        "        })\n",
        "\n",
        "forecasts_df = pd.DataFrame(forecasts)\n"
      ],
      "metadata": {
        "id": "jgsj4G1VQKXM"
      },
      "execution_count": null,
      "outputs": []
    },
    {
      "cell_type": "code",
      "source": [
        "# 시각화: 전체 예측 결과만\n",
        "fig, ax1 = plt.subplots(figsize=(16, 8))\n",
        "\n",
        "# 실제값\n",
        "ax1.plot(forecasts_df.index, forecasts_df['Actual'],\n",
        "         linewidth=3, alpha=0.4, color='black', label='Actual', zorder=1)\n",
        "\n",
        "# 각 연도의 예측값\n",
        "colors = plt.cm.rainbow(np.linspace(0, 1, len(range(1995, 2020, 2))))\n",
        "for idx, year in enumerate(range(1995, 2020, 2)):\n",
        "    if str(year) in forecasts_df.columns:\n",
        "        ax1.plot(forecasts_df.index, forecasts_df[str(year)],\n",
        "                 linewidth=1.5, alpha=0.7, color=colors[idx],\n",
        "                 label=f'Forecast from {year}', zorder=2)\n",
        "\n",
        "ax1.set_title('Rolling 24-Month Forecasts (Every 2 Years)',\n",
        "              fontsize=14, fontweight='bold')\n",
        "ax1.set_xlabel('Date', fontsize=11)\n",
        "ax1.set_ylabel('Thousand Units', fontsize=11)\n",
        "ax1.legend(loc='upper left', fontsize=9, ncol=2)\n",
        "ax1.grid(True, alpha=0.3)\n",
        "ax1.set_xlim(forecasts_df.index[forecasts_df.index >= '1995-01-01'].min(),\n",
        "             forecasts_df.index.max())\n",
        "\n",
        "plt.tight_layout()\n",
        "plt.show()\n"
      ],
      "metadata": {
        "id": "rwrMMuEtHsR3"
      },
      "execution_count": null,
      "outputs": []
    },
    {
      "cell_type": "code",
      "source": [
        "# 성능 지표 출력\n",
        "if performance_metrics:\n",
        "    perf_df = pd.DataFrame(performance_metrics)\n",
        "    print(\"\\n백테스팅 성능 지표 (24개월 예측):\")\n",
        "    print(perf_df.to_string(index=False))\n",
        "\n",
        "    # 성능 추이 시각화\n",
        "    fig, axes = plt.subplots(1, 2, figsize=(16, 5))\n",
        "\n",
        "    axes[0].plot(perf_df['Year'], perf_df['MAE'], marker='o',\n",
        "                 markersize=8, linewidth=2, color='blue')\n",
        "    axes[0].set_title('MAE by Forecast Year', fontsize=13, fontweight='bold')\n",
        "    axes[0].set_xlabel('Forecast Start Year', fontsize=11)\n",
        "    axes[0].set_ylabel('MAE', fontsize=11)\n",
        "    axes[0].grid(True, alpha=0.3)\n",
        "\n",
        "    axes[1].plot(perf_df['Year'], perf_df['RMSE'], marker='s',\n",
        "                 markersize=8, linewidth=2, color='red')\n",
        "    axes[1].set_title('RMSE by Forecast Year', fontsize=13, fontweight='bold')\n",
        "    axes[1].set_xlabel('Forecast Start Year', fontsize=11)\n",
        "    axes[1].set_ylabel('RMSE', fontsize=11)\n",
        "    axes[1].grid(True, alpha=0.3)\n",
        "\n",
        "    plt.tight_layout()\n",
        "    plt.show()"
      ],
      "metadata": {
        "id": "Oi9khWL2I3iZ"
      },
      "execution_count": null,
      "outputs": []
    },
    {
      "cell_type": "markdown",
      "source": [
        "## 6. Log Transformation & Additive Method\n",
        "\n",
        "원본 데이터에 로그 변환을 적용하고 additive method를 사용합니다. 이는 분산을 안정화하고 비율 변화를 선형화하는 효과가 있습니다."
      ],
      "metadata": {
        "id": "jZFn8v7SJEdM"
      }
    },
    {
      "cell_type": "code",
      "source": [
        "# 로그 변환\n",
        "log_housing = np.log(housing)"
      ],
      "metadata": {
        "id": "nPZg6-INJMp9"
      },
      "execution_count": null,
      "outputs": []
    },
    {
      "cell_type": "code",
      "source": [
        "# 1. Multiplicative method (기본)\n",
        "tm_mult = ThetaModel(log_housing, method=\"multiplicative\")\n",
        "res_mult = tm_mult.fit()\n",
        "\n",
        "# 2. Additive method with MLE\n",
        "tm_log = ThetaModel(log_housing, method=\"additive\")\n",
        "res_log = tm_log.fit(use_mle=True)"
      ],
      "metadata": {
        "id": "MqJKaCV9Jz2u"
      },
      "execution_count": null,
      "outputs": []
    },
    {
      "cell_type": "code",
      "source": [
        "print(\"Multiplicative Method:\")\n",
        "print(res_mult.summary())\n",
        "print(f\"\\nParameters:\")\n",
        "print(f\"  Alpha: {res_mult.params['alpha']:.4f}\")\n",
        "print(f\"  b0: {res_mult.params['b0']:.4f}\")\n",
        "\n",
        "print(\"\\n\" + \"-\"*70)\n",
        "print(\"\\nAdditive Method (with MLE):\")\n",
        "print(res_log.summary())\n",
        "print(f\"\\nParameters:\")\n",
        "print(f\"  Alpha: {res_log.params['alpha']:.4f}\")\n",
        "print(f\"  b0: {res_log.params['b0']:.4f}\")"
      ],
      "metadata": {
        "id": "wMrJTFwsJz5j"
      },
      "execution_count": null,
      "outputs": []
    },
    {
      "cell_type": "code",
      "source": [
        "# 예측 성분 분해\n",
        "components = res_log.forecast_components(12)\n",
        "print(\"\\n예측 성분 (12개월):\")\n",
        "print(components)\n",
        "\n",
        "# 로그 변환 효과 시각화\n",
        "fig, axes = plt.subplots(2, 2, figsize=(16, 10))\n",
        "\n",
        "# 원본 vs 로그 변환\n",
        "axes[0, 0].plot(housing.index, housing.values, label='Original',\n",
        "             color='blue', linewidth=2)\n",
        "axes[0, 0].set_title('Original Data', fontsize=13, fontweight='bold')\n",
        "axes[0, 0].set_xlabel('Date', fontsize=11)\n",
        "axes[0, 0].set_ylabel('Thousand Units', fontsize=11)\n",
        "axes[0, 0].grid(True, alpha=0.3)\n",
        "\n",
        "axes[0, 1].plot(log_housing.index, log_housing.values, label='Log-transformed',\n",
        "              color='red', linewidth=2)\n",
        "axes[0, 1].set_title('Log-transformed Data', fontsize=13, fontweight='bold')\n",
        "axes[0, 1].set_xlabel('Date', fontsize=11)\n",
        "axes[0, 1].set_ylabel('Log(Thousand Units)', fontsize=11)\n",
        "axes[0, 1].grid(True, alpha=0.3)\n",
        "\n",
        "# 분산 비교 (이동 분산)\n",
        "rolling_std_original = housing.rolling(window=24).std()\n",
        "rolling_std_log = log_housing.rolling(window=24).std()\n",
        "\n",
        "axes[1, 0].plot(rolling_std_original.index, rolling_std_original.values,\n",
        "                color='blue', linewidth=2)\n",
        "axes[1, 0].set_title('Rolling Std Dev - Original', fontsize=13, fontweight='bold')\n",
        "axes[1, 0].set_xlabel('Date', fontsize=11)\n",
        "axes[1, 0].set_ylabel('Standard Deviation', fontsize=11)\n",
        "axes[1, 0].grid(True, alpha=0.3)\n",
        "\n",
        "axes[1, 1].plot(rolling_std_log.index, rolling_std_log.values,\n",
        "                color='red', linewidth=2)\n",
        "axes[1, 1].set_title('Rolling Std Dev - Log-transformed', fontsize=13, fontweight='bold')\n",
        "axes[1, 1].set_xlabel('Date', fontsize=11)\n",
        "axes[1, 1].set_ylabel('Standard Deviation', fontsize=11)\n",
        "axes[1, 1].grid(True, alpha=0.3)\n",
        "\n",
        "plt.tight_layout()\n",
        "plt.show()"
      ],
      "metadata": {
        "id": "QeIJjF-zJz88"
      },
      "execution_count": null,
      "outputs": []
    },
    {
      "cell_type": "code",
      "source": [
        "print(f\"\\n분산 안정화 효과:\")\n",
        "print(f\"  Original - Std Dev: {housing.std():.2f}\")\n",
        "print(f\"  Log-transformed - Std Dev: {log_housing.std():.4f}\")\n",
        "print(f\"  분산 감소 비율: {(1 - log_housing.std()/housing.std())*100:.1f}%\")"
      ],
      "metadata": {
        "id": "Pz_S9lLtJ0AX"
      },
      "execution_count": null,
      "outputs": []
    },
    {
      "cell_type": "markdown",
      "source": [
        "### Performance Comparison: Original vs Log-transformed"
      ],
      "metadata": {
        "id": "sOm_08JXKJqC"
      }
    },
    {
      "cell_type": "code",
      "source": [
        "# 테스트 데이터 분할\n",
        "train_size = len(housing) - 24\n",
        "train_original = housing[:train_size]\n",
        "test_original = housing[train_size:]\n",
        "train_log = log_housing[:train_size]\n",
        "test_log = log_housing[train_size:]"
      ],
      "metadata": {
        "id": "hxLJSyVeKGxb"
      },
      "execution_count": null,
      "outputs": []
    },
    {
      "cell_type": "code",
      "source": [
        "# 1. 원본 데이터 모델\n",
        "model_original = ThetaModel(train_original)\n",
        "fit_original = model_original.fit()\n",
        "forecast_original = fit_original.forecast(24)\n",
        "\n",
        "# 2. 로그 변환 모델 (Multiplicative)\n",
        "model_log_mult = ThetaModel(train_log, method=\"multiplicative\")\n",
        "fit_log_mult = model_log_mult.fit()\n",
        "forecast_log_mult = fit_log_mult.forecast(24)\n",
        "forecast_log_mult_backtransformed = np.exp(forecast_log_mult)\n",
        "\n",
        "# 3. 로그 변환 모델 (Additive)\n",
        "model_log_add = ThetaModel(train_log, method=\"additive\")\n",
        "fit_log_add = model_log_add.fit(use_mle=True)\n",
        "forecast_log_add = fit_log_add.forecast(24)\n",
        "forecast_log_add_backtransformed = np.exp(forecast_log_add)"
      ],
      "metadata": {
        "id": "i4Q6G9qqKG1S"
      },
      "execution_count": null,
      "outputs": []
    },
    {
      "cell_type": "code",
      "source": [
        "# 성능 평가 (원본 스케일에서)\n",
        "comparison_log = []\n",
        "\n",
        "for name, forecast in [('Original Scale', forecast_original),\n",
        "                       ('Log (Multiplicative)', forecast_log_mult_backtransformed),\n",
        "                       ('Log (Additive)', forecast_log_add_backtransformed)]:\n",
        "    mae = mean_absolute_error(test_original, forecast)\n",
        "    rmse = root_mean_squared_error(test_original, forecast)\n",
        "    mape = mean_absolute_percentage_error(test_original, forecast) * 100\n",
        "\n",
        "    comparison_log.append({\n",
        "        'Model': name,\n",
        "        'MAE': mae,\n",
        "        'RMSE': rmse,\n",
        "        'MAPE': mape\n",
        "    })\n",
        "\n",
        "comparison_log_df = pd.DataFrame(comparison_log)\n",
        "print(\"모델 성능 비교 (24개월 예측, 원본 스케일):\")\n",
        "print(comparison_log_df.to_string(index=False))"
      ],
      "metadata": {
        "id": "CmkJ4mJDKG4I"
      },
      "execution_count": null,
      "outputs": []
    },
    {
      "cell_type": "code",
      "source": [
        "# 시각화\n",
        "fig, axes = plt.subplots(2, 1, figsize=(16, 10))\n",
        "\n",
        "# 예측 비교\n",
        "ax1 = axes[0]\n",
        "ax1.plot(train_original.index[-60:], train_original.values[-60:],\n",
        "         label='Train', linewidth=2, color='gray', alpha=0.5)\n",
        "ax1.plot(test_original.index, test_original.values,\n",
        "         label='Actual Test', linewidth=2.5, color='black', marker='o', markersize=5)\n",
        "ax1.plot(test_original.index, forecast_original,\n",
        "         label='Original Scale Model', linewidth=2, linestyle='--',\n",
        "         marker='s', markersize=4, color='blue')\n",
        "ax1.plot(test_original.index, forecast_log_mult_backtransformed,\n",
        "         label='Log-transformed (Mult)', linewidth=2, linestyle='--',\n",
        "         marker='^', markersize=4, color='red')\n",
        "ax1.plot(test_original.index, forecast_log_add_backtransformed,\n",
        "         label='Log-transformed (Add)', linewidth=2, linestyle='--',\n",
        "         marker='d', markersize=4, color='green')\n",
        "ax1.axvline(x=train_original.index[-1], color='purple', linestyle=':',\n",
        "            linewidth=2, label='Train/Test Split')\n",
        "ax1.set_title('Forecast Comparison: Original vs Log-transformed Models',\n",
        "              fontsize=14, fontweight='bold')\n",
        "ax1.set_xlabel('Date', fontsize=11)\n",
        "ax1.set_ylabel('Thousand Units', fontsize=11)\n",
        "ax1.legend(loc='upper left', fontsize=10)\n",
        "ax1.grid(True, alpha=0.3)\n",
        "\n",
        "# 성능 지표 비교\n",
        "ax2 = axes[1]\n",
        "x = np.arange(len(comparison_log_df))\n",
        "width = 0.25\n",
        "\n",
        "bars1 = ax2.bar(x - width, comparison_log_df['MAE'], width,\n",
        "                label='MAE', color='skyblue', edgecolor='black')\n",
        "bars2 = ax2.bar(x, comparison_log_df['RMSE'], width,\n",
        "                label='RMSE', color='lightcoral', edgecolor='black')\n",
        "bars3 = ax2.bar(x + width, comparison_log_df['MAPE'], width,\n",
        "                label='MAPE (%)', color='lightgreen', edgecolor='black')\n",
        "\n",
        "ax2.set_title('Performance Metrics Comparison', fontsize=14, fontweight='bold')\n",
        "ax2.set_xlabel('Model', fontsize=11)\n",
        "ax2.set_ylabel('Error', fontsize=11)\n",
        "ax2.set_xticks(x)\n",
        "ax2.set_xticklabels(comparison_log_df['Model'], fontsize=9)\n",
        "ax2.legend(fontsize=11)\n",
        "ax2.grid(True, alpha=0.3, axis='y')\n",
        "\n",
        "# 값 표시\n",
        "for bars in [bars1, bars2, bars3]:\n",
        "    for bar in bars:\n",
        "        height = bar.get_height()\n",
        "        ax2.text(bar.get_x() + bar.get_width()/2., height,\n",
        "                f'{height:.2f}', ha='center', va='bottom', fontsize=9)\n",
        "\n",
        "plt.tight_layout()\n",
        "plt.show()"
      ],
      "metadata": {
        "id": "CqPlj4WvKG7Q"
      },
      "execution_count": null,
      "outputs": []
    },
    {
      "cell_type": "code",
      "source": [
        "# 최적 모델\n",
        "best_log_model = comparison_log_df.loc[comparison_log_df['RMSE'].idxmin(), 'Model']\n",
        "print(f\"\\n최적 모델 (RMSE 기준): {best_log_model}\")"
      ],
      "metadata": {
        "id": "b7KkaRQjJSMm"
      },
      "execution_count": null,
      "outputs": []
    },
    {
      "cell_type": "markdown",
      "source": [
        "# Theta Model 시계열 실습 2\n",
        "\n",
        "개인소비지출 (Personal Consumption Expenditure) 데이터를 활용한 실습 예제.\n",
        "\n",
        "- 출처: FRED\n",
        "\n",
        "- 코드: NA000349Q (Personal Consumption Expenditures)\n",
        "\n",
        "- 기간: 1980-01 ~ 2020-04\n",
        "\n",
        "- 빈도: Quarterly\n"
      ],
      "metadata": {
        "id": "Ia-aI7EOLTxN"
      }
    },
    {
      "cell_type": "markdown",
      "source": [
        "## 데이터 로드"
      ],
      "metadata": {
        "id": "iWQFdwi4MHER"
      }
    },
    {
      "cell_type": "code",
      "source": [
        "from urllib.parse import urljoin\n",
        "data_repo_url = \"https://raw.githubusercontent.com/SLCFLAB/hd2025_time_series/refs/heads/main/datasets/\"\n",
        "\n",
        "pce_data_path = urljoin(data_repo_url, \"personal_consumption_expenditure.csv\")\n",
        "pce = pd.read_csv(pce_data_path, index_col=0, parse_dates=True)\n",
        "pce.index.freq = \"QS-OCT\""
      ],
      "metadata": {
        "id": "ZHchyAItMDZY"
      },
      "execution_count": null,
      "outputs": []
    },
    {
      "cell_type": "code",
      "source": [
        "pce.info()"
      ],
      "metadata": {
        "id": "m3gbJaS0MDdj"
      },
      "execution_count": null,
      "outputs": []
    },
    {
      "cell_type": "code",
      "source": [
        "pce.describe()"
      ],
      "metadata": {
        "id": "cCwuc0wxMDlD"
      },
      "execution_count": null,
      "outputs": []
    },
    {
      "cell_type": "code",
      "source": [
        "print(f\"데이터 shape: {pce.shape}\")\n",
        "print(f\"기간: {pce.index[0]} ~ {pce.index[-1]}\")"
      ],
      "metadata": {
        "id": "Y6TWguX3MDo9"
      },
      "execution_count": null,
      "outputs": []
    },
    {
      "cell_type": "markdown",
      "source": [
        "## EDA"
      ],
      "metadata": {
        "id": "xNftB9ccMmVy"
      }
    },
    {
      "cell_type": "code",
      "source": [
        "# 시각화\n",
        "fig, axes = plt.subplots(2, 2, figsize=(16, 10))\n",
        "\n",
        "# 원본 PCE\n",
        "axes[0, 0].plot(pce.index, pce.PCE, color='darkblue', linewidth=2)\n",
        "axes[0, 0].set_title('Personal Consumption Expenditure', fontsize=13, fontweight='bold')\n",
        "axes[0, 0].set_xlabel('Date', fontsize=11)\n",
        "axes[0, 0].set_ylabel('Billions of Dollars', fontsize=11)\n",
        "axes[0, 0].grid(True, alpha=0.3)\n",
        "\n",
        "# 로그 변환 PCE\n",
        "axes[0, 1].plot(pce.index, np.log(pce.PCE), color='darkgreen', linewidth=2)\n",
        "axes[0, 1].set_title('Log-transformed PCE', fontsize=13, fontweight='bold')\n",
        "axes[0, 1].set_xlabel('Date', fontsize=11)\n",
        "axes[0, 1].set_ylabel('Log(Billions of Dollars)', fontsize=11)\n",
        "axes[0, 1].grid(True, alpha=0.3)\n",
        "\n",
        "# 연간 성장률\n",
        "pce_growth = pce.PCE.pct_change(4) * 100  # 4 quarters = 1 year\n",
        "axes[1, 0].plot(pce_growth.index, pce_growth.values, color='darkred', linewidth=2)\n",
        "axes[1, 0].axhline(y=0, color='black', linestyle='--', linewidth=1)\n",
        "axes[1, 0].set_title('Year-over-Year Growth Rate', fontsize=13, fontweight='bold')\n",
        "axes[1, 0].set_xlabel('Date', fontsize=11)\n",
        "axes[1, 0].set_ylabel('Growth Rate (%)', fontsize=11)\n",
        "axes[1, 0].grid(True, alpha=0.3)\n",
        "\n",
        "# 분기별 평균\n",
        "quarterly_avg = pce.groupby(pce.index.quarter).mean()\n",
        "axes[1, 1].bar(quarterly_avg.index, quarterly_avg.PCE,\n",
        "               color='steelblue', edgecolor='black', alpha=0.7)\n",
        "axes[1, 1].set_title('Average PCE by Quarter', fontsize=13, fontweight='bold')\n",
        "axes[1, 1].set_xlabel('Quarter', fontsize=11)\n",
        "axes[1, 1].set_ylabel('Average (Billions)', fontsize=11)\n",
        "axes[1, 1].set_xticks([1, 2, 3, 4])\n",
        "axes[1, 1].grid(True, alpha=0.3, axis='y')\n",
        "\n",
        "plt.tight_layout()\n",
        "plt.show()"
      ],
      "metadata": {
        "id": "ju8TB2yQMlGc"
      },
      "execution_count": null,
      "outputs": []
    },
    {
      "cell_type": "markdown",
      "source": [
        "## 다양한 Theta 파라미터 비교\n",
        "\n",
        "theta 값이 클수록 추세가 강하게 반영됩니다."
      ],
      "metadata": {
        "id": "BiVulacCMw3i"
      }
    },
    {
      "cell_type": "code",
      "source": [
        "# 로그 변환 PCE로 모델 학습\n",
        "mod_pce = ThetaModel(np.log(pce.PCE))\n",
        "res_pce = mod_pce.fit()\n",
        "\n",
        "print(res_pce.summary())"
      ],
      "metadata": {
        "id": "Q9Upve97MtrR"
      },
      "execution_count": null,
      "outputs": []
    },
    {
      "cell_type": "code",
      "source": [
        "# 다양한 theta 값으로 예측\n",
        "forecast_horizon = 12\n",
        "ln_pce = np.log(pce.PCE)\n",
        "\n",
        "forecasts_theta = pd.DataFrame({\n",
        "    \"ln PCE\": ln_pce,\n",
        "    \"theta=1.0 (minimal trend)\": res_pce.forecast(forecast_horizon, theta=1.0),\n",
        "    \"theta=1.5\": res_pce.forecast(forecast_horizon, theta=1.5),\n",
        "    \"theta=2.0 (default)\": res_pce.forecast(forecast_horizon, theta=2.0),\n",
        "    \"theta=2.5\": res_pce.forecast(forecast_horizon, theta=2.5),\n",
        "    \"theta=3.0\": res_pce.forecast(forecast_horizon, theta=3.0),\n",
        "    \"theta=5.0\": res_pce.forecast(forecast_horizon, theta=5.0),\n",
        "    \"theta=inf (pure linear)\": res_pce.forecast(forecast_horizon, theta=np.inf),\n",
        "})"
      ],
      "metadata": {
        "id": "M3aKjCQwMtup"
      },
      "execution_count": null,
      "outputs": []
    },
    {
      "cell_type": "code",
      "source": [
        "# 시각화\n",
        "fig, axes = plt.subplots(2, 1, figsize=(16, 10))\n",
        "\n",
        "# 최근 36개 분기 + 예측\n",
        "recent_forecasts = forecasts_theta.tail(36)\n",
        "ax1 = axes[0]\n",
        "ax1.plot(recent_forecasts.index, recent_forecasts[\"ln PCE\"],\n",
        "         label='Actual', linewidth=3, color='black', marker='o', markersize=5)\n",
        "\n",
        "theta_labels = [\"theta=1.0 (minimal trend)\", \"theta=1.5\", \"theta=2.0 (default)\",\n",
        "                \"theta=2.5\", \"theta=3.0\", \"theta=5.0\", \"theta=inf (pure linear)\"]\n",
        "colors_theta = ['blue', 'green', 'red', 'orange', 'purple', 'brown', 'pink']\n",
        "\n",
        "for theta_label, color in zip(theta_labels, colors_theta):\n",
        "    ax1.plot(recent_forecasts.index, recent_forecasts[theta_label],\n",
        "             label=theta_label, linewidth=2, linestyle='--',\n",
        "             color=color, marker='s', markersize=3, alpha=0.8)\n",
        "\n",
        "ax1.axvline(x=ln_pce.index[-1], color='green', linestyle=':', linewidth=2,\n",
        "            label='Forecast Start')\n",
        "ax1.set_title('Forecasts of ln(PCE) with Different Theta Values',\n",
        "              fontsize=14, fontweight='bold')\n",
        "ax1.set_xlabel('Date', fontsize=11)\n",
        "ax1.set_ylabel('ln(PCE)', fontsize=11)\n",
        "ax1.legend(loc='upper left', fontsize=10)\n",
        "ax1.grid(True, alpha=0.3)\n",
        "\n",
        "# 예측 부분만 확대\n",
        "forecast_only = forecasts_theta[forecasts_theta.index > ln_pce.index[-1]]\n",
        "ax2 = axes[1]\n",
        "\n",
        "for theta_label, color in zip(theta_labels, colors_theta):\n",
        "    if theta_label in forecast_only.columns:\n",
        "        ax2.plot(forecast_only.index, forecast_only[theta_label],\n",
        "                 label=theta_label, linewidth=2.5, marker='o',\n",
        "                 markersize=7, color=color, alpha=0.8)\n",
        "\n",
        "# 실제 마지막 값 표시\n",
        "ax2.scatter(ln_pce.index[-1], ln_pce.iloc[-1],\n",
        "            s=200, color='black', zorder=5, label='Last Actual', marker='*')\n",
        "\n",
        "ax2.set_title('Forecast Comparison (Forecast Period Only)',\n",
        "              fontsize=14, fontweight='bold')\n",
        "ax2.set_xlabel('Date', fontsize=11)\n",
        "ax2.set_ylabel('ln(PCE)', fontsize=11)\n",
        "ax2.legend(loc='upper left', fontsize=10)\n",
        "ax2.grid(True, alpha=0.3)\n",
        "\n",
        "plt.tight_layout()\n",
        "plt.show()"
      ],
      "metadata": {
        "id": "_DsaeaIvNR6i"
      },
      "execution_count": null,
      "outputs": []
    },
    {
      "cell_type": "code",
      "source": [
        "# Theta 값별 예측 통계\n",
        "print(\"\\nTheta 파라미터별 예측값 차이:\")\n",
        "for col in forecasts_theta.columns:\n",
        "    if col != \"ln PCE\" and col in forecast_only.columns:\n",
        "        mean_forecast = forecast_only[col].mean()\n",
        "        print(f\"  {col}: 평균 = {mean_forecast:.4f}\")"
      ],
      "metadata": {
        "id": "s50CItD4NR81"
      },
      "execution_count": null,
      "outputs": []
    },
    {
      "cell_type": "markdown",
      "source": [
        "## 예측 구간 시각화"
      ],
      "metadata": {
        "id": "y7QAjbTLNcpi"
      }
    },
    {
      "cell_type": "code",
      "source": [
        "fig = res_pce.plot_predict(24, theta=2)\n",
        "fig.suptitle('Theta Model Forecast with 95% Confidence Interval',\n",
        "             fontsize=14, fontweight='bold')\n",
        "fig.set_size_inches(16, 7)\n",
        "plt.tight_layout()\n",
        "plt.show()"
      ],
      "metadata": {
        "id": "aTvzFX8eNR_t"
      },
      "execution_count": null,
      "outputs": []
    },
    {
      "cell_type": "markdown",
      "source": [
        "## PCE Backtesting - Rolling Forecast"
      ],
      "metadata": {
        "id": "9IGpVmh8OU4Y"
      }
    },
    {
      "cell_type": "code",
      "source": [
        "# PCE 백테스팅\n",
        "ln_pce = np.log(pce.PCE)\n",
        "forecasts_pce = {\"ln PCE\": ln_pce}\n",
        "pce_metrics = []\n",
        "\n",
        "for year in range(1995, 2020, 3):\n",
        "    sub_pce = ln_pce[: str(year)]\n",
        "    res_sub_pce = ThetaModel(sub_pce).fit()\n",
        "    fcast_pce = res_sub_pce.forecast(12)\n",
        "    forecasts_pce[str(year)] = fcast_pce\n",
        "\n",
        "    # 성능 평가\n",
        "    actual_period_pce = ln_pce[fcast_pce.index[0]:fcast_pce.index[-1]]\n",
        "    if len(actual_period_pce) > 0:\n",
        "        mae = mean_absolute_error(actual_period_pce, fcast_pce[:len(actual_period_pce)])\n",
        "        rmse = root_mean_squared_error(actual_period_pce, fcast_pce[:len(actual_period_pce)])\n",
        "        mape = mean_absolute_percentage_error(actual_period_pce, fcast_pce[:len(actual_period_pce)]) * 100\n",
        "        pce_metrics.append({\n",
        "            'Year': year,\n",
        "            'MAE': mae,\n",
        "            'RMSE': rmse,\n",
        "            'MAPE': mape\n",
        "        })\n",
        "\n",
        "forecasts_pce_df = pd.DataFrame(forecasts_pce)\n"
      ],
      "metadata": {
        "id": "MUbRK5E9OWCJ"
      },
      "execution_count": null,
      "outputs": []
    },
    {
      "cell_type": "code",
      "source": [
        "# 시각화\n",
        "fig, ax1 = plt.subplots(figsize=(16, 6))\n",
        "\n",
        "# 전체 예측\n",
        "ax1.plot(forecasts_pce_df.index, forecasts_pce_df[\"ln PCE\"],\n",
        "         linewidth=3, alpha=0.4, color='black', label='Actual', zorder=1)\n",
        "\n",
        "colors_pce = plt.cm.viridis(np.linspace(0, 1, len(range(1995, 2020, 3))))\n",
        "for idx, year in enumerate(range(1995, 2020, 3)):\n",
        "    if str(year) in forecasts_pce_df.columns:\n",
        "        ax1.plot(forecasts_pce_df.index, forecasts_pce_df[str(year)],\n",
        "                linewidth=1.5, alpha=0.8, color=colors_pce[idx],\n",
        "                label=f'Forecast from {year}', zorder=2)\n",
        "\n",
        "ax1.set_title('Rolling 12-Quarter Forecasts of ln(PCE)',\n",
        "              fontsize=14, fontweight='bold')\n",
        "ax1.set_xlabel('Date', fontsize=11)\n",
        "ax1.set_ylabel('ln(PCE)', fontsize=11)\n",
        "ax1.legend(loc='upper left', fontsize=10)\n",
        "ax1.grid(True, alpha=0.3)\n",
        "ax1.set_xlim(forecasts_pce_df.index[forecasts_pce_df.index >= '1995-01-01'].min(),\n",
        "             forecasts_pce_df.index.max())\n",
        "plt.tight_layout()\n",
        "plt.show()\n"
      ],
      "metadata": {
        "id": "wkFV0prPOWE8"
      },
      "execution_count": null,
      "outputs": []
    },
    {
      "cell_type": "code",
      "source": [
        "# 성능 지표\n",
        "if pce_metrics:\n",
        "    pce_perf_df = pd.DataFrame(pce_metrics)\n",
        "    print(\"\\nPCE 백테스팅 성능 지표 (12분기 예측):\")\n",
        "    print(pce_perf_df.to_string(index=False))\n",
        "\n",
        "    # 성능 추이\n",
        "    fig, axes = plt.subplots(1, 3, figsize=(18, 5))\n",
        "\n",
        "    axes[0].plot(pce_perf_df['Year'], pce_perf_df['MAE'],\n",
        "                 marker='o', markersize=8, linewidth=2.5, color='blue')\n",
        "    axes[0].set_title('MAE over Time', fontsize=13, fontweight='bold')\n",
        "    axes[0].set_xlabel('Forecast Start Year', fontsize=11)\n",
        "    axes[0].set_ylabel('MAE', fontsize=11)\n",
        "    axes[0].grid(True, alpha=0.3)\n",
        "\n",
        "    axes[1].plot(pce_perf_df['Year'], pce_perf_df['RMSE'],\n",
        "                 marker='s', markersize=8, linewidth=2.5, color='red')\n",
        "    axes[1].set_title('RMSE over Time', fontsize=13, fontweight='bold')\n",
        "    axes[1].set_xlabel('Forecast Start Year', fontsize=11)\n",
        "    axes[1].set_ylabel('RMSE', fontsize=11)\n",
        "    axes[1].grid(True, alpha=0.3)\n",
        "\n",
        "    axes[2].plot(pce_perf_df['Year'], pce_perf_df['MAPE'],\n",
        "                 marker='^', markersize=8, linewidth=2.5, color='green')\n",
        "    axes[2].set_title('MAPE over Time', fontsize=13, fontweight='bold')\n",
        "    axes[2].set_xlabel('Forecast Start Year', fontsize=11)\n",
        "    axes[2].set_ylabel('MAPE (%)', fontsize=11)\n",
        "    axes[2].grid(True, alpha=0.3)\n",
        "\n",
        "    plt.tight_layout()\n",
        "    plt.show()"
      ],
      "metadata": {
        "id": "8rN0N1lSOWHj"
      },
      "execution_count": null,
      "outputs": []
    },
    {
      "cell_type": "markdown",
      "source": [
        "# Theta Model 요약\n",
        "\n",
        "Theta Model의 주요 특징:\n",
        "  - 간단하면서도 효과적인 예측 방법\n",
        "  - 추세와 수준을 자동으로 분리하여 처리\n",
        "  - Theta 파라미터로 예측 곡률 조정 가능\n",
        "  - 로그 변환과 함께 사용 시 비율 예측에 효과적\n",
        "  - 계산 속도가 빠르고 구현이 간단\n",
        "\n",
        "적용 분야:\n",
        "  - 경제 지표 예측 (GDP, 소비, 투자 등)\n",
        "  - 수요 예측 (판매량, 생산량 등)\n",
        "  - 금융 시계열 (주가, 환율 등)\n",
        "  - 인구 통계 예측\n",
        "\n",
        "Theta vs 다른 모델:\n",
        "  - ARIMA보다 단순하지만 비슷한 성능\n",
        "  - ETS 모델의 특수한 경우로 볼 수 있음\n",
        "  - 계절성이 강한 데이터는 SARIMA나 Holt-Winters가 더 적합\n",
        "\n",
        "주의사항:\n",
        "  - 구조적 변화(structural break)에 취약\n",
        "  - 계절성을 직접 처리하지 못함\n",
        "  - 외생변수를 포함할 수 없음\n",
        "\n",
        "\n"
      ],
      "metadata": {
        "id": "By9tOSm3O3cq"
      }
    },
    {
      "cell_type": "markdown",
      "source": [
        "## Theta Model vs. TBATS Model\n",
        "\n",
        "**Theta Model**은 간단하면서도 강력한 시계열 예측 기법입니다.\n",
        "이 모델은 데이터를 두 개의 ‘Theta line’(하나는 추세를 강조하고, 다른 하나는 평활화된 시계열)을 결합하여 예측을 생성합니다.\n",
        "기본적으로 단일 지수평활(SES)과 선형 추세 성분을 조합하며, 연산 속도가 빠르고 해석이 직관적입니다.\n",
        "특히 추세 중심의 단기 예측에서 강점을 보이며, Hyndman 등이 제안한 M3 경쟁에서 우수한 성능을 보인 바 있습니다.\n",
        "다만, 복잡한 계절성이나 비선형적 패턴을 표현하는 데에는 한계가 있습니다.\n",
        "\n",
        "**TBATS Model**은 Exponential Smoothing 계열을 확장한 모델로,\n",
        "Trigonometric, Box-Cox, ARMA errors, Trend, Seasonal components의 약자를 의미합니다.\n",
        "즉, Box-Cox 변환을 통한 분산 안정화, 여러 주기의 계절성을 포착하는 삼각함수 기반 성분, 그리고 잔차의 ARMA 구조를 포함하여 매우 유연하게 시계열을 표현합니다.\n",
        "TBATS 모델은 복잡한 다중 계절성(예: 시간별, 주별, 연별)을 가진 데이터나 긴 주기를 포함하는 시계열에 적합합니다.\n",
        "다만, 계산량이 많고 모수 추정 과정이 복잡하여 학습 시간이 길어질 수 있습니다.\n",
        "\n",
        "| 구분      | Theta Model                  | TBATS Model                                          |\n",
        "| ------- | ---------------------------- | ---------------------------------------------------- |\n",
        "| 핵심 아이디어 | 두 개의 Theta line(추세 + 평활화) 결합 | Exponential Smoothing + Box-Cox + ARMA + 삼각함수 기반 계절성 |\n",
        "| 계절성 처리  | 단일 주기만 처리 가능                 | 다중 계절성 처리 가능                                         |\n",
        "| 복잡도     | 낮음                           | 높음                                                   |\n",
        "| 계산 속도   | 빠름                           | 느림                                                   |\n",
        "| 해석 가능성  | 높음 (직관적인 구조)                 | 낮음 (복합 구조)                                           |\n",
        "| 데이터 특성  | 단순 추세형, 안정적 시계열              | 복잡한 계절 패턴, 다주기 구조                                    |\n",
        "| 장점      | 단순하고 빠르며 안정적인 예측 성능          | 유연하며 다중 계절성과 비선형 패턴까지 표현 가능                          |\n",
        "| 단점      | 비선형·복합 계절성에 취약               | 해석이 어렵고 계산 비용이 큼                                     |\n",
        "\n",
        "요약하자면, Theta 모델은 단기 예측이나 단순한 추세형 데이터 분석에 적합하며,\n",
        "TBATS 모델은 장기 예측이나 다중 계절성을 포함한 복잡한 시계열 분석에 효과적입니다.\n",
        "\n",
        "Python TBATS 구현은 `tbats` library를 통해 이루어집니다. 다만 numpy 버전 이슈 등이 발생할 수 있어 본 실습에는 포함하지 않았습니다.\n",
        "\n",
        "- PyPI: https://pypi.org/project/tbats/\n",
        "- 참고 가능 노트북: https://www.kaggle.com/code/mariavirginiaforcone/power-consumption-forecasting-with-sarima-tbats#Autocorrelation-analysis\n",
        "\n"
      ],
      "metadata": {
        "id": "LsCTEaLkQugX"
      }
    },
    {
      "cell_type": "markdown",
      "source": [
        "# Prophet 실습\n",
        "\n",
        "Prophet은 Facebook에서 개발한 시계열 예측 라이브러리입니다.\n",
        "\n",
        "주요 특징:\n",
        "  - 강력한 계절성(seasonality) 모델링\n",
        "  - 추세 변화점(changepoints) 자동 감지\n",
        "  - 휴일(holidays) 효과 반영\n",
        "  - 결측치와 이상치에 강건\n",
        "  - 사용하기 쉬운 인터페이스"
      ],
      "metadata": {
        "id": "kEeQpHl1SbRn"
      }
    },
    {
      "cell_type": "markdown",
      "source": [
        "## 라이브러리 로드"
      ],
      "metadata": {
        "id": "2xGsjuefTdnp"
      }
    },
    {
      "cell_type": "code",
      "source": [
        "import numpy as np\n",
        "import pandas as pd\n",
        "import matplotlib.pyplot as plt\n",
        "import seaborn as sns\n",
        "from sklearn.metrics import mean_absolute_error, mean_squared_error, mean_absolute_percentage_error\n",
        "from datetime import datetime\n",
        "import warnings\n",
        "warnings.filterwarnings('ignore')"
      ],
      "metadata": {
        "id": "sj4xCTHRSccC"
      },
      "execution_count": null,
      "outputs": []
    },
    {
      "cell_type": "code",
      "source": [
        "# Prophet 설치: pip install prophet\n",
        "# 또는: conda install -c conda-forge prophet\n",
        "try:\n",
        "    from prophet import Prophet\n",
        "    print(\"Prophet imported successfully!\")\n",
        "except ImportError:\n",
        "    print(\"Prophet not installed. Please run: pip install prophet\")"
      ],
      "metadata": {
        "id": "Qv2oAr3ZSmdr"
      },
      "execution_count": null,
      "outputs": []
    },
    {
      "cell_type": "code",
      "source": [
        "# 시각화 설정\n",
        "plt.rcParams['figure.figsize'] = (16, 8)\n",
        "plt.rcParams['font.size'] = 12\n",
        "plt.rcParams['lines.linewidth'] = 2\n",
        "sns.set_style(\"whitegrid\")"
      ],
      "metadata": {
        "id": "DOYXa5pyTSGj"
      },
      "execution_count": null,
      "outputs": []
    },
    {
      "cell_type": "markdown",
      "source": [
        "## 2. 데이터 로드 - Peyton Manning Wikipedia 페이지뷰"
      ],
      "metadata": {
        "id": "51NLXQHTTiEC"
      }
    },
    {
      "cell_type": "code",
      "source": [
        "# 데이터 다운로드\n",
        "url = 'https://raw.githubusercontent.com/facebook/prophet/main/examples/example_wp_log_peyton_manning.csv'\n",
        "df = pd.read_csv(url)"
      ],
      "metadata": {
        "id": "BzXDQAtZTWTt"
      },
      "execution_count": null,
      "outputs": []
    },
    {
      "cell_type": "code",
      "source": [
        "df.info()"
      ],
      "metadata": {
        "id": "UWWrF82ETkcL"
      },
      "execution_count": null,
      "outputs": []
    },
    {
      "cell_type": "code",
      "source": [
        "df.describe()"
      ],
      "metadata": {
        "id": "2RSBSZHHTlzF"
      },
      "execution_count": null,
      "outputs": []
    },
    {
      "cell_type": "code",
      "source": [
        "df.head()"
      ],
      "metadata": {
        "id": "atwHCbA-TmXc"
      },
      "execution_count": null,
      "outputs": []
    },
    {
      "cell_type": "code",
      "source": [
        "# 날짜 형식 변환\n",
        "df['ds'] = pd.to_datetime(df['ds'])"
      ],
      "metadata": {
        "id": "8h7syUE2TnMt"
      },
      "execution_count": null,
      "outputs": []
    },
    {
      "cell_type": "markdown",
      "source": [
        "## EDA"
      ],
      "metadata": {
        "id": "lba7jQrjTqsC"
      }
    },
    {
      "cell_type": "code",
      "source": [
        "fig, axes = plt.subplots(2, 2, figsize=(16, 10))\n",
        "\n",
        "# 전체 시계열\n",
        "axes[0, 0].plot(df['ds'], df['y'], color='darkblue', linewidth=1, alpha=0.7)\n",
        "axes[0, 0].set_title('Wikipedia Page Views - Full Time Series', fontsize=13, fontweight='bold')\n",
        "axes[0, 0].set_xlabel('Date')\n",
        "axes[0, 0].set_ylabel('Log Page Views')\n",
        "axes[0, 0].grid(True, alpha=0.3)\n",
        "\n",
        "# 요일별 평균\n",
        "df['dayofweek'] = df['ds'].dt.dayofweek\n",
        "dow_avg = df.groupby('dayofweek')['y'].mean()\n",
        "axes[0, 1].bar(range(7), dow_avg.values, color='lightcoral', edgecolor='black')\n",
        "axes[0, 1].set_title('Average by Day of Week', fontsize=13, fontweight='bold')\n",
        "axes[0, 1].set_xticks(range(7))\n",
        "axes[0, 1].set_xticklabels(['Mon', 'Tue', 'Wed', 'Thu', 'Fri', 'Sat', 'Sun'])\n",
        "axes[0, 1].grid(True, alpha=0.3, axis='y')\n",
        "\n",
        "# 월별 평균\n",
        "df['month'] = df['ds'].dt.month\n",
        "monthly_avg = df.groupby('month')['y'].mean()\n",
        "axes[1, 0].plot(monthly_avg.index, monthly_avg.values, marker='o', markersize=8, color='darkgreen')\n",
        "axes[1, 0].set_title('Average by Month', fontsize=13, fontweight='bold')\n",
        "axes[1, 0].set_xlabel('Month')\n",
        "axes[1, 0].set_ylabel('Average Log Page Views')\n",
        "axes[1, 0].grid(True, alpha=0.3)\n",
        "\n",
        "# 히스토그램\n",
        "axes[1, 1].hist(df['y'], bins=50, edgecolor='black', alpha=0.7, color='purple')\n",
        "axes[1, 1].set_title('Distribution', fontsize=13, fontweight='bold')\n",
        "axes[1, 1].set_xlabel('Log Page Views')\n",
        "axes[1, 1].set_ylabel('Frequency')\n",
        "axes[1, 1].grid(True, alpha=0.3, axis='y')\n",
        "\n",
        "plt.tight_layout()\n",
        "plt.show()"
      ],
      "metadata": {
        "id": "e28qaUD9TpqG"
      },
      "execution_count": null,
      "outputs": []
    },
    {
      "cell_type": "code",
      "source": [
        "# EDA용 컬럼 제거\n",
        "df = df[['ds', 'y']]"
      ],
      "metadata": {
        "id": "GakIs0fkTt-n"
      },
      "execution_count": null,
      "outputs": []
    },
    {
      "cell_type": "markdown",
      "source": [
        "## 기본 Prophet 모델"
      ],
      "metadata": {
        "id": "A-tBWD-9T03V"
      }
    },
    {
      "cell_type": "code",
      "source": [
        "# 모델 생성 및 학습\n",
        "m = Prophet()\n",
        "m.fit(df)"
      ],
      "metadata": {
        "id": "Z1HRye77Ty8Q"
      },
      "execution_count": null,
      "outputs": []
    },
    {
      "cell_type": "code",
      "source": [
        "# 미래 데이터프레임 생성 (365일 예측)\n",
        "future = m.make_future_dataframe(periods=365)\n",
        "print(f\"예측 기간: 향후 365일\")"
      ],
      "metadata": {
        "id": "AvE3LATNT5b-"
      },
      "execution_count": null,
      "outputs": []
    },
    {
      "cell_type": "code",
      "source": [
        "# 예측 수행\n",
        "forecast = m.predict(future)\n",
        "print(f\"\\n예측 결과 샘플:\")\n",
        "print(forecast[['ds', 'yhat', 'yhat_lower', 'yhat_upper']].tail())"
      ],
      "metadata": {
        "id": "A_le73xIT8e5"
      },
      "execution_count": null,
      "outputs": []
    },
    {
      "cell_type": "markdown",
      "source": [
        "## 예측 결과 시각화"
      ],
      "metadata": {
        "id": "_z2-TFGjUBIg"
      }
    },
    {
      "cell_type": "code",
      "source": [
        "# Prophet 기본 플롯\n",
        "fig1 = m.plot(forecast)\n",
        "plt.tight_layout()\n",
        "plt.show()"
      ],
      "metadata": {
        "id": "wG0VObQWT-n0"
      },
      "execution_count": null,
      "outputs": []
    },
    {
      "cell_type": "code",
      "source": [
        "# 성분 분해 플롯\n",
        "fig2 = m.plot_components(forecast)\n",
        "plt.tight_layout()\n",
        "plt.show()"
      ],
      "metadata": {
        "id": "FBJVJQk6UDjP"
      },
      "execution_count": null,
      "outputs": []
    },
    {
      "cell_type": "markdown",
      "source": [
        "## 성능 평가"
      ],
      "metadata": {
        "id": "XZGMkVokUH3f"
      }
    },
    {
      "cell_type": "code",
      "source": [
        "# 실제 데이터 기간의 예측값\n",
        "forecast_insample = forecast[forecast['ds'] <= df['ds'].max()].copy()\n",
        "forecast_insample = forecast_insample.merge(df, on='ds', how='left')\n",
        "\n",
        "mae = mean_absolute_error(forecast_insample['y'], forecast_insample['yhat'])\n",
        "rmse = root_mean_squared_error(forecast_insample['y'], forecast_insample['yhat'])\n",
        "mape = mean_absolute_percentage_error(forecast_insample['y'], forecast_insample['yhat']) * 100\n"
      ],
      "metadata": {
        "id": "5E_SBfHTUFp8"
      },
      "execution_count": null,
      "outputs": []
    },
    {
      "cell_type": "code",
      "source": [
        "print(\"\\nIn-sample 예측 성능:\")\n",
        "print(f\"  MAE:  {mae:.4f}\")\n",
        "print(f\"  RMSE: {rmse:.4f}\")\n",
        "print(f\"  MAPE: {mape:.2f}%\")"
      ],
      "metadata": {
        "id": "olgWlvl7UL2Z"
      },
      "execution_count": null,
      "outputs": []
    },
    {
      "cell_type": "markdown",
      "source": [
        "## Changepoints 분석"
      ],
      "metadata": {
        "id": "5G-QRjP6UQDr"
      }
    },
    {
      "cell_type": "code",
      "source": [
        "changepoints = m.changepoints\n",
        "print(f\"감지된 변화점 수: {len(changepoints)}\")"
      ],
      "metadata": {
        "id": "WaNGJLW4UNiR"
      },
      "execution_count": null,
      "outputs": []
    },
    {
      "cell_type": "code",
      "source": [
        "# 변화점 시각화\n",
        "fig, ax = plt.subplots(figsize=(16, 7))\n",
        "ax.plot(df['ds'], df['y'], 'k.', ms=2, alpha=0.5, label='Actual')\n",
        "ax.plot(forecast['ds'], forecast['yhat'], 'b-', linewidth=2, label='Forecast')\n",
        "\n",
        "for cp in changepoints:\n",
        "    ax.axvline(x=cp, color='red', linestyle='--', alpha=0.3, linewidth=1)\n",
        "\n",
        "ax.set_title('Prophet Forecast with Changepoints', fontsize=14, fontweight='bold')\n",
        "ax.set_xlabel('Date')\n",
        "ax.set_ylabel('Log Page Views')\n",
        "ax.legend()\n",
        "ax.grid(True, alpha=0.3)\n",
        "plt.tight_layout()\n",
        "plt.show()"
      ],
      "metadata": {
        "id": "dDoJexAGUSiU"
      },
      "execution_count": null,
      "outputs": []
    },
    {
      "cell_type": "markdown",
      "source": [
        "## 계절성 조정 모델"
      ],
      "metadata": {
        "id": "cZqsSmk4UZqz"
      }
    },
    {
      "cell_type": "code",
      "source": [
        "m2 = Prophet(\n",
        "    seasonality_mode='multiplicative',\n",
        "    yearly_seasonality=20,\n",
        "    weekly_seasonality=10,\n",
        "    daily_seasonality=False,\n",
        "    changepoint_prior_scale=0.05\n",
        ")"
      ],
      "metadata": {
        "id": "JpTj2ccwUUem"
      },
      "execution_count": null,
      "outputs": []
    },
    {
      "cell_type": "code",
      "source": [
        "m2.fit(df)\n",
        "forecast2 = m2.predict(future)"
      ],
      "metadata": {
        "id": "N4DWuv2sUbsP"
      },
      "execution_count": null,
      "outputs": []
    },
    {
      "cell_type": "code",
      "source": [
        "# 성능 비교\n",
        "forecast2_insample = forecast2[forecast2['ds'] <= df['ds'].max()].copy()\n",
        "forecast2_insample = forecast2_insample.merge(df, on='ds', how='left')\n",
        "\n",
        "mae2 = mean_absolute_error(forecast2_insample['y'], forecast2_insample['yhat'])\n",
        "rmse2 = root_mean_squared_error(forecast2_insample['y'], forecast2_insample['yhat'])\n",
        "mape2 = mean_absolute_percentage_error(forecast2_insample['y'], forecast2_insample['yhat']) * 100"
      ],
      "metadata": {
        "id": "apdpCCzvUdpu"
      },
      "execution_count": null,
      "outputs": []
    },
    {
      "cell_type": "code",
      "source": [
        "print(\"모델 성능 비교:\")\n",
        "comparison = pd.DataFrame({\n",
        "    'Model': ['Basic', 'Adjusted'],\n",
        "    'MAE': [mae, mae2],\n",
        "    'RMSE': [rmse, rmse2],\n",
        "    'MAPE': [mape, mape2]\n",
        "})\n",
        "print(comparison.to_string(index=False))"
      ],
      "metadata": {
        "id": "V_YY4IWoUh0-"
      },
      "execution_count": null,
      "outputs": []
    },
    {
      "cell_type": "markdown",
      "source": [
        "## 휴일 효과 추가"
      ],
      "metadata": {
        "id": "bJenSiyKUmg7"
      }
    },
    {
      "cell_type": "code",
      "source": [
        "# Peyton Manning 플레이오프 및 슈퍼볼\n",
        "playoffs = pd.DataFrame({\n",
        "    'holiday': 'playoff',\n",
        "    'ds': pd.to_datetime(['2008-01-13', '2009-01-03', '2010-01-16',\n",
        "                          '2010-01-24', '2010-02-07', '2011-01-08',\n",
        "                          '2013-01-12', '2014-01-12', '2014-01-19',\n",
        "                          '2014-02-02', '2015-01-11', '2016-01-17']),\n",
        "    'lower_window': 0,\n",
        "    'upper_window': 1,\n",
        "})\n",
        "\n",
        "superbowls = pd.DataFrame({\n",
        "    'holiday': 'superbowl',\n",
        "    'ds': pd.to_datetime(['2010-02-07', '2014-02-02']),\n",
        "    'lower_window': 0,\n",
        "    'upper_window': 1,\n",
        "})\n",
        "\n",
        "holidays = pd.concat((playoffs, superbowls))"
      ],
      "metadata": {
        "id": "9mYErGCcUjtY"
      },
      "execution_count": null,
      "outputs": []
    },
    {
      "cell_type": "code",
      "source": [
        "m3 = Prophet(\n",
        "    holidays=holidays,\n",
        "    seasonality_mode='multiplicative',\n",
        "    yearly_seasonality=20,\n",
        "    weekly_seasonality=10\n",
        ")"
      ],
      "metadata": {
        "id": "QJj7djvlUqDw"
      },
      "execution_count": null,
      "outputs": []
    },
    {
      "cell_type": "code",
      "source": [
        "m3.fit(df)\n",
        "forecast3 = m3.predict(future)"
      ],
      "metadata": {
        "id": "Obotz7iVUryx"
      },
      "execution_count": null,
      "outputs": []
    },
    {
      "cell_type": "code",
      "source": [
        "# 성능 비교\n",
        "forecast3_insample = forecast3[forecast3['ds'] <= df['ds'].max()].copy()\n",
        "forecast3_insample = forecast3_insample.merge(df, on='ds', how='left')\n",
        "\n",
        "mae3 = mean_absolute_error(forecast3_insample['y'], forecast3_insample['yhat'])\n",
        "rmse3 = root_mean_squared_error(forecast3_insample['y'], forecast3_insample['yhat'])\n",
        "mape3 = mean_absolute_percentage_error(forecast3_insample['y'], forecast3_insample['yhat']) * 100"
      ],
      "metadata": {
        "id": "4sTQ7vgXUuB3"
      },
      "execution_count": null,
      "outputs": []
    },
    {
      "cell_type": "code",
      "source": [
        "print(\"최종 성능 비교:\")\n",
        "final_comparison = pd.DataFrame({\n",
        "    'Model': ['Basic', 'Adjusted', 'With Holidays'],\n",
        "    'MAE': [mae, mae2, mae3],\n",
        "    'RMSE': [rmse, rmse2, rmse3],\n",
        "    'MAPE': [mape, mape2, mape3]\n",
        "})\n",
        "print(final_comparison.to_string(index=False))"
      ],
      "metadata": {
        "id": "urZU4d5lUxA2"
      },
      "execution_count": null,
      "outputs": []
    },
    {
      "cell_type": "code",
      "source": [
        "# 성분 분해\n",
        "fig3 = m3.plot_components(forecast3)\n",
        "plt.tight_layout()\n",
        "plt.show()"
      ],
      "metadata": {
        "id": "C5m0mcHRUzbJ"
      },
      "execution_count": null,
      "outputs": []
    },
    {
      "cell_type": "markdown",
      "source": [
        "## Cross-Validation"
      ],
      "metadata": {
        "id": "vqOwdA-HU7IH"
      }
    },
    {
      "cell_type": "code",
      "source": [
        "from prophet.diagnostics import cross_validation, performance_metrics\n",
        "\n",
        "df_cv = cross_validation(m3, initial='730 days', period='180 days', horizon='365 days')\n",
        "df_p = performance_metrics(df_cv)"
      ],
      "metadata": {
        "id": "3QaPixXVU2sV"
      },
      "execution_count": null,
      "outputs": []
    },
    {
      "cell_type": "code",
      "source": [
        "df_p"
      ],
      "metadata": {
        "id": "u3dkpNwMVuqT"
      },
      "execution_count": null,
      "outputs": []
    },
    {
      "cell_type": "code",
      "source": [
        "print(f\"평균 성능 지표:\")\n",
        "print(f\"  MAE:  {df_p['mae'].mean():.4f}\")\n",
        "print(f\"  RMSE: {df_p['rmse'].mean():.4f}\")\n",
        "print(f\"  MAPE: {df_p['mape'].mean():.2f}%\")"
      ],
      "metadata": {
        "id": "CakNivfoU9vq"
      },
      "execution_count": null,
      "outputs": []
    },
    {
      "cell_type": "code",
      "source": [
        "# 성능 시각화\n",
        "fig, axes = plt.subplots(2, 2, figsize=(16, 10))\n",
        "\n",
        "axes[0, 0].plot(df_p['horizon'].dt.days, df_p['mse'], 'o-')\n",
        "axes[0, 0].set_xlabel('Horizon (days)')\n",
        "axes[0, 0].set_ylabel('MSE')\n",
        "axes[0, 0].set_title('MSE by Horizon')\n",
        "axes[0, 0].grid(True, alpha=0.3)\n",
        "\n",
        "axes[0, 1].plot(df_p['horizon'].dt.days, df_p['rmse'], 'o-', color='red')\n",
        "axes[0, 1].set_xlabel('Horizon (days)')\n",
        "axes[0, 1].set_ylabel('RMSE')\n",
        "axes[0, 1].set_title('RMSE by Horizon')\n",
        "axes[0, 1].grid(True, alpha=0.3)\n",
        "\n",
        "axes[1, 0].plot(df_p['horizon'].dt.days, df_p['mae'], 'o-', color='green')\n",
        "axes[1, 0].set_xlabel('Horizon (days)')\n",
        "axes[1, 0].set_ylabel('MAE')\n",
        "axes[1, 0].set_title('MAE by Horizon')\n",
        "axes[1, 0].grid(True, alpha=0.3)\n",
        "\n",
        "axes[1, 1].plot(df_p['horizon'].dt.days, df_p['mape'], 'o-', color='purple')\n",
        "axes[1, 1].set_xlabel('Horizon (days)')\n",
        "axes[1, 1].set_ylabel('MAPE')\n",
        "axes[1, 1].set_title('MAPE by Horizon')\n",
        "axes[1, 1].grid(True, alpha=0.3)\n",
        "\n",
        "plt.suptitle('Cross-Validation Metrics', fontsize=14, fontweight='bold')\n",
        "plt.tight_layout()\n",
        "plt.show()"
      ],
      "metadata": {
        "id": "JNgkv-PSVCCs"
      },
      "execution_count": null,
      "outputs": []
    },
    {
      "cell_type": "code",
      "source": [
        "print(\"\\n최적 모델:\", final_comparison.loc[final_comparison['RMSE'].idxmin(), 'Model'])"
      ],
      "metadata": {
        "id": "BS8Jkox8VErn"
      },
      "execution_count": null,
      "outputs": []
    }
  ]
}