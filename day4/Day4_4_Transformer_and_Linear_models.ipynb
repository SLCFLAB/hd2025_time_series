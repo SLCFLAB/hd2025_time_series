{
  "cells": [
    {
      "cell_type": "markdown",
      "metadata": {
        "id": "view-in-github",
        "colab_type": "text"
      },
      "source": [
        "<a href=\"https://colab.research.google.com/github/SLCFLAB/hd2025_time_series/blob/main/day4/Day4_4_Transformer_and_Linear_models.ipynb\" target=\"_parent\"><img src=\"https://colab.research.google.com/assets/colab-badge.svg\" alt=\"Open In Colab\"/></a>"
      ]
    },
    {
      "cell_type": "markdown",
      "metadata": {
        "id": "eXY0weKziRS2"
      },
      "source": [
        "## **Time Series 딥러닝 학습 예제**\n",
        "\n",
        "참고: https://github.com/thuml/Time-Series-Library\n",
        "\n"
      ]
    },
    {
      "cell_type": "markdown",
      "metadata": {
        "id": "rAl2BH_kjxn3"
      },
      "source": [
        "#### **Github에서 .py 파일 다운로드**"
      ]
    },
    {
      "cell_type": "code",
      "execution_count": null,
      "metadata": {
        "id": "NJjAr5avh8Gy"
      },
      "outputs": [],
      "source": [
        "!git clone https://github.com/SLCFLAB/hd2025_time_series.git\n",
        "%cd hd2025_time_series/day4"
      ]
    },
    {
      "cell_type": "markdown",
      "metadata": {
        "id": "xOgarhlljw7r"
      },
      "source": [
        "#### **원하는 학습 파라미터 지정**"
      ]
    },
    {
      "cell_type": "code",
      "execution_count": null,
      "metadata": {
        "id": "obZh4U7BiAki"
      },
      "outputs": [],
      "source": [
        "import numpy as np\n",
        "import argparse\n",
        "from exp.exp_main import Exp_Main\n",
        "import random\n",
        "import torch\n",
        "\n",
        "fix_seed = 2021\n",
        "random.seed(fix_seed)\n",
        "torch.manual_seed(fix_seed)\n",
        "np.random.seed(fix_seed)\n",
        "\n",
        "parser = argparse.ArgumentParser(description='HD')\n",
        "\n",
        "parser.add_argument('--model', type=str, default='Informer')\n",
        "parser.add_argument('--seq_len', type=int, default=48, help='input sequence length')\n",
        "parser.add_argument('--label_len', type=int, default=24, help='start token length')\n",
        "parser.add_argument('--pred_len', type=int, default=48, help='prediction sequence length')\n",
        "\n",
        "args = parser.parse_args(args=[])\n",
        "args.use_gpu = True if torch.cuda.is_available() else False\n",
        "\n",
        "print('Args in experiment:')\n",
        "print(args)"
      ]
    },
    {
      "cell_type": "markdown",
      "metadata": {
        "id": "r-aF0oEKj-AE"
      },
      "source": [
        "#### **모델 학습**"
      ]
    },
    {
      "cell_type": "code",
      "execution_count": null,
      "metadata": {
        "id": "-enfT72OiDTH"
      },
      "outputs": [],
      "source": [
        "Exp = Exp_Main\n",
        "exp = Exp(args)\n",
        "setting = '{}_sl{}_pl{}'.format(args.model, args.seq_len, args.pred_len)\n",
        "exp.train(setting)"
      ]
    },
    {
      "cell_type": "code",
      "execution_count": null,
      "metadata": {
        "id": "IYsh0NcjiGoA"
      },
      "outputs": [],
      "source": [
        "preds, trues, inputx = exp.test(setting)\n",
        "torch.cuda.empty_cache()"
      ]
    },
    {
      "cell_type": "code",
      "execution_count": null,
      "metadata": {
        "id": "F_07SPwBiw-w"
      },
      "outputs": [],
      "source": [
        "parser = argparse.ArgumentParser(description='HD')\n",
        "\n",
        "parser.add_argument('--model', type=str, default='DLinear')\n",
        "parser.add_argument('--seq_len', type=int, default=48, help='input sequence length')\n",
        "parser.add_argument('--label_len', type=int, default=24, help='start token length')\n",
        "parser.add_argument('--pred_len', type=int, default=48, help='prediction sequence length')\n",
        "\n",
        "args = parser.parse_args(args=[])\n",
        "args.use_gpu = True if torch.cuda.is_available() else False\n",
        "\n",
        "print('Args in experiment:')\n",
        "print(args)"
      ]
    },
    {
      "cell_type": "code",
      "execution_count": null,
      "metadata": {
        "id": "o1-HYtdrjKDA"
      },
      "outputs": [],
      "source": [
        "Exp = Exp_Main\n",
        "exp = Exp(args)\n",
        "setting = '{}_sl{}_pl{}'.format(args.model, args.seq_len, args.pred_len)\n",
        "exp.train(setting)"
      ]
    },
    {
      "cell_type": "code",
      "execution_count": null,
      "metadata": {
        "id": "JYyFkQrQjKzA"
      },
      "outputs": [],
      "source": [
        "preds2, trues2, inputx2 = exp.test(setting)\n",
        "torch.cuda.empty_cache()"
      ]
    },
    {
      "cell_type": "markdown",
      "metadata": {
        "id": "S3sNOy5-kGwP"
      },
      "source": [
        "#### **모델 간 비교**"
      ]
    },
    {
      "cell_type": "code",
      "execution_count": null,
      "metadata": {
        "id": "mPdoNxC2jSgk"
      },
      "outputs": [],
      "source": [
        "import matplotlib.pyplot as plt\n",
        "%matplotlib inline\n",
        "\n",
        "plt.title('Informer VS DLinear')\n",
        "plt.plot(np.arange(args.seq_len),inputx2[0,:,0], label='True', c='k')\n",
        "plt.plot(np.arange(args.pred_len)+args.seq_len,trues2[0,:,0], c='k')\n",
        "plt.plot(np.arange(args.pred_len)+args.seq_len,preds[0,:,0], label='Informer')\n",
        "plt.plot(np.arange(args.pred_len)+args.seq_len,preds2[0,:,0], label='DLinear', c='r')\n",
        "plt.legend()\n",
        "plt.show()"
      ]
    }
  ],
  "metadata": {
    "accelerator": "GPU",
    "colab": {
      "gpuType": "T4",
      "provenance": [],
      "include_colab_link": true
    },
    "kernelspec": {
      "display_name": "Python 3 (ipykernel)",
      "language": "python",
      "name": "python3"
    },
    "language_info": {
      "codemirror_mode": {
        "name": "ipython",
        "version": 3
      },
      "file_extension": ".py",
      "mimetype": "text/x-python",
      "name": "python",
      "nbconvert_exporter": "python",
      "pygments_lexer": "ipython3",
      "version": "3.11.11"
    }
  },
  "nbformat": 4,
  "nbformat_minor": 0
}