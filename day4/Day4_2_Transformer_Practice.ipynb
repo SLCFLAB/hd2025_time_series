{
  "cells": [
    {
      "cell_type": "markdown",
      "metadata": {
        "id": "view-in-github",
        "colab_type": "text"
      },
      "source": [
        "<a href=\"https://colab.research.google.com/github/SLCFLAB/hd2025_time_series/blob/main/day4/Day4_2_Transformer_Practice.ipynb\" target=\"_parent\"><img src=\"https://colab.research.google.com/assets/colab-badge.svg\" alt=\"Open In Colab\"/></a>"
      ]
    },
    {
      "cell_type": "code",
      "execution_count": null,
      "id": "qRLwTActR-K-",
      "metadata": {
        "id": "qRLwTActR-K-",
        "scrolled": true
      },
      "outputs": [],
      "source": [
        "!pip install neuralforecast datasetsforecast"
      ]
    },
    {
      "cell_type": "code",
      "execution_count": null,
      "id": "60b80cef",
      "metadata": {
        "id": "60b80cef"
      },
      "outputs": [],
      "source": [
        "import pandas as pd\n",
        "import matplotlib.pyplot as plt\n",
        "from neuralforecast.losses.numpy import mae\n",
        "from neuralforecast.core import NeuralForecast\n",
        "from neuralforecast.models import Informer, Autoformer, PatchTST\n",
        "from datasetsforecast.long_horizon import LongHorizon"
      ]
    },
    {
      "cell_type": "markdown",
      "id": "YskgP7YmsTIf",
      "metadata": {
        "id": "YskgP7YmsTIf"
      },
      "source": [
        "### Data 전처리"
      ]
    },
    {
      "cell_type": "code",
      "execution_count": null,
      "id": "9cd4b537",
      "metadata": {
        "id": "9cd4b537"
      },
      "outputs": [],
      "source": [
        "data_gold = pd.read_csv('https://raw.githubusercontent.com/SLCFLAB/hd2025_time_series/refs/heads/main/day4/dataset/gold.csv')\n",
        "data_silver = pd.read_csv('https://raw.githubusercontent.com/SLCFLAB/hd2025_time_series/refs/heads/main/day4/dataset/silver.csv')"
      ]
    },
    {
      "cell_type": "code",
      "execution_count": null,
      "id": "7fb820ac",
      "metadata": {
        "id": "7fb820ac"
      },
      "outputs": [],
      "source": [
        "def standard_scaler(data):\n",
        "    mean = data['y'].mean()\n",
        "    std = data['y'].std()\n",
        "    data['y'] = (data['y']-mean)/std\n",
        "    return mean, std, data"
      ]
    },
    {
      "cell_type": "code",
      "execution_count": null,
      "id": "a8e1f0ec",
      "metadata": {
        "id": "a8e1f0ec"
      },
      "outputs": [],
      "source": [
        "mean_gold, std_gold, data_gold = standard_scaler(data_gold)\n",
        "mean_silver, std_silver, data_silver = standard_scaler(data_silver)"
      ]
    },
    {
      "cell_type": "code",
      "execution_count": null,
      "id": "ca858696",
      "metadata": {
        "id": "ca858696"
      },
      "outputs": [],
      "source": [
        "data = pd.concat([data_gold,data_silver])\n",
        "data"
      ]
    },
    {
      "cell_type": "markdown",
      "id": "TvpLXD8KsYd8",
      "metadata": {
        "id": "TvpLXD8KsYd8"
      },
      "source": [
        "### **학습**"
      ]
    },
    {
      "cell_type": "code",
      "execution_count": null,
      "id": "e627d3d7",
      "metadata": {
        "id": "e627d3d7"
      },
      "outputs": [],
      "source": [
        "horizon = 1"
      ]
    },
    {
      "cell_type": "code",
      "execution_count": null,
      "id": "599b9a89",
      "metadata": {
        "id": "599b9a89"
      },
      "outputs": [],
      "source": [
        "%%capture\n",
        "models_tf = [Informer(h=horizon,                    # Forecasting horizon\n",
        "                      input_size=10,                # Input size\n",
        "                      max_steps=2000,               # Number of training iterations\n",
        "                      val_check_steps=100,          # Compute validation loss every 100 steps\n",
        "                      early_stop_patience_steps=3), # Stop training if validation loss does not improve\n",
        "             Autoformer(h=horizon,\n",
        "                        input_size=30,\n",
        "                        max_steps=1000,\n",
        "                        val_check_steps=100,\n",
        "                        early_stop_patience_steps=3),\n",
        "             PatchTST(h=horizon,\n",
        "                        input_size=30,\n",
        "                        max_steps=1000,\n",
        "                        val_check_steps=100,\n",
        "                        early_stop_patience_steps=3),\n",
        "             ]"
      ]
    },
    {
      "cell_type": "code",
      "execution_count": null,
      "id": "2b110745",
      "metadata": {
        "id": "2b110745"
      },
      "outputs": [],
      "source": [
        "tf = NeuralForecast(models=models_tf, freq=1)\n",
        "\n",
        "data_tf = tf.cross_validation(df=data,\n",
        "                               val_size=int(.1*len(data.ds.unique())),\n",
        "                               test_size=int(.1*len(data.ds.unique())),\n",
        "                               n_windows=None)"
      ]
    },
    {
      "cell_type": "code",
      "execution_count": null,
      "id": "c093bc6e",
      "metadata": {
        "id": "c093bc6e"
      },
      "outputs": [],
      "source": [
        "data_tf = pd.read_csv('https://raw.githubusercontent.com/safeai-snu/TimeSeriesAI/refs/heads/main/ch3/dataset/gold_silver_pretrained.csv')"
      ]
    },
    {
      "cell_type": "code",
      "execution_count": null,
      "id": "420f41ba",
      "metadata": {
        "id": "420f41ba"
      },
      "outputs": [],
      "source": [
        "tf_predict = data_tf[data_tf['ds']-data_tf['cutoff']==horizon]\n",
        "tf_predict"
      ]
    },
    {
      "cell_type": "code",
      "execution_count": null,
      "id": "a097f2b2",
      "metadata": {
        "id": "a097f2b2"
      },
      "outputs": [],
      "source": [
        "tf_gold = tf_predict[tf_predict['unique_id']=='gold']\n",
        "tf_silver = tf_predict[tf_predict['unique_id']=='silver']"
      ]
    },
    {
      "cell_type": "code",
      "execution_count": null,
      "id": "e7586f71",
      "metadata": {
        "id": "e7586f71"
      },
      "outputs": [],
      "source": [
        "tf_gold"
      ]
    },
    {
      "cell_type": "markdown",
      "id": "VdvttuyBskTR",
      "metadata": {
        "id": "VdvttuyBskTR"
      },
      "source": [
        "### **결과 분석**"
      ]
    },
    {
      "cell_type": "code",
      "execution_count": null,
      "id": "c1bb69a2",
      "metadata": {
        "id": "c1bb69a2"
      },
      "outputs": [],
      "source": [
        "tf_gold[['Informer','Autoformer','PatchTST','y']] = tf_gold[['Informer','Autoformer','PatchTST','y']]*std_gold + mean_gold\n",
        "tf_silver[['Informer','Autoformer','PatchTST','y']] = tf_silver[['Informer','Autoformer','PatchTST','y']]*std_silver + mean_silver"
      ]
    },
    {
      "cell_type": "code",
      "execution_count": null,
      "id": "7f2c3f8e",
      "metadata": {
        "id": "7f2c3f8e",
        "scrolled": true
      },
      "outputs": [],
      "source": [
        "plt.figure(figsize=(20,5))\n",
        "plt.plot(tf_gold['ds'], tf_gold['y'], label='True')\n",
        "plt.plot(tf_gold['ds'], tf_gold['Informer'], label='Informer')\n",
        "plt.plot(tf_gold['ds'], tf_gold['Autoformer'], label='Autoformer')\n",
        "plt.plot(tf_gold['ds'], tf_gold['PatchTST'], label='PatchTST')\n",
        "plt.xlabel('Day')\n",
        "plt.ylabel('Price')\n",
        "plt.title('Gold Price Prediction')\n",
        "plt.grid()\n",
        "plt.legend()\n",
        "plt.savefig('gold_tf_5step.png')\n",
        "plt.show()"
      ]
    },
    {
      "cell_type": "code",
      "execution_count": null,
      "id": "418163be",
      "metadata": {
        "id": "418163be"
      },
      "outputs": [],
      "source": [
        "mae_informer = mae(tf_gold['y'], tf_gold['Informer'])\n",
        "mae_autoformer = mae(tf_gold['y'], tf_gold['Autoformer'])\n",
        "mae_patchtst = mae(tf_gold['y'], tf_gold['PatchTST'])\n",
        "\n",
        "print(f'Informer: {mae_informer:.3f}')\n",
        "print(f'Autoformer: {mae_autoformer:.3f}')\n",
        "print(f'PatchTST: {mae_patchtst:.3f}')"
      ]
    },
    {
      "cell_type": "code",
      "execution_count": null,
      "id": "75ea0508",
      "metadata": {
        "id": "75ea0508"
      },
      "outputs": [],
      "source": [
        "plt.figure(figsize=(20,5))\n",
        "plt.plot(tf_silver['ds'], tf_silver['y'], label='True')\n",
        "plt.plot(tf_silver['ds'], tf_silver['Informer'], label='Informer')\n",
        "plt.plot(tf_silver['ds'], tf_silver['Autoformer'], label='Autoformer')\n",
        "plt.plot(tf_silver['ds'], tf_silver['PatchTST'], label='PatchTST')\n",
        "plt.xlabel('Day')\n",
        "plt.ylabel('Price')\n",
        "plt.title('Silver Price Prediction')\n",
        "plt.grid()\n",
        "plt.legend()\n",
        "plt.savefig('silver_tf_5step.png')\n",
        "plt.show()"
      ]
    },
    {
      "cell_type": "code",
      "execution_count": null,
      "id": "1147c85b",
      "metadata": {
        "id": "1147c85b"
      },
      "outputs": [],
      "source": [
        "mae_informer = mae(tf_silver['y'], tf_silver['Informer'])\n",
        "mae_autoformer = mae(tf_silver['y'], tf_silver['Autoformer'])\n",
        "mae_patchtst = mae(tf_silver['y'], tf_silver['PatchTST'])\n",
        "\n",
        "print(f'Informer: {mae_informer:.3f}')\n",
        "print(f'Autoformer: {mae_autoformer:.3f}')\n",
        "print(f'PatchTST: {mae_patchtst:.3f}')"
      ]
    },
    {
      "cell_type": "markdown",
      "id": "XuKBxe5bta4J",
      "metadata": {
        "id": "XuKBxe5bta4J"
      },
      "source": [
        "### **AirPassengers Data**\n",
        "Reference: https://github.com/Nixtla/neuralforecast/blob/main/nbs/examples/Getting_Started.ipynb"
      ]
    },
    {
      "cell_type": "code",
      "execution_count": null,
      "id": "14596821",
      "metadata": {
        "id": "14596821"
      },
      "outputs": [],
      "source": [
        "from neuralforecast.utils import AirPassengersDF\n",
        "\n",
        "Y_df = AirPassengersDF\n",
        "Y_df.head()"
      ]
    },
    {
      "cell_type": "code",
      "execution_count": null,
      "id": "GayDMQPp6KB1",
      "metadata": {
        "id": "GayDMQPp6KB1"
      },
      "outputs": [],
      "source": [
        "Y_df['y'].plot()"
      ]
    },
    {
      "cell_type": "code",
      "execution_count": null,
      "id": "guEKUPVLt1II",
      "metadata": {
        "id": "guEKUPVLt1II"
      },
      "outputs": [],
      "source": [
        "%%capture\n",
        "horizon = 12\n",
        "models = [Informer(h=horizon,                 # Forecasting horizon\n",
        "                input_size=2*horizon,           # Input size\n",
        "                max_steps=500), # Stop training if validation loss does not improve\n",
        "          Autoformer(h=horizon,\n",
        "                input_size=2*horizon,\n",
        "                max_steps=100),\n",
        "          PatchTST(h=horizon,\n",
        "                input_size=2*horizon,\n",
        "                max_steps=100),\n",
        "         ]"
      ]
    },
    {
      "cell_type": "code",
      "execution_count": null,
      "id": "u_jth3276JTa",
      "metadata": {
        "id": "u_jth3276JTa"
      },
      "outputs": [],
      "source": [
        "nf = NeuralForecast(models=models, freq='M')\n",
        "\n",
        "data_nf = nf.cross_validation(df=Y_df,\n",
        "                               val_size=int(.1*len(Y_df.ds.unique())),\n",
        "                               test_size=int(.1*len(Y_df.ds.unique())),\n",
        "                               n_windows=None)"
      ]
    },
    {
      "cell_type": "code",
      "execution_count": null,
      "id": "04e84e54",
      "metadata": {
        "id": "04e84e54"
      },
      "outputs": [],
      "source": [
        "nf_predict = data_nf[data_nf['cutoff']=='1959-12-31']"
      ]
    },
    {
      "cell_type": "code",
      "execution_count": null,
      "id": "iOKe2x0suIcw",
      "metadata": {
        "id": "iOKe2x0suIcw"
      },
      "outputs": [],
      "source": [
        "nf_predict"
      ]
    },
    {
      "cell_type": "code",
      "execution_count": null,
      "id": "4058e5d3",
      "metadata": {
        "id": "4058e5d3"
      },
      "outputs": [],
      "source": [
        "plt.figure(figsize=(20,7))\n",
        "plt.plot(Y_df['ds'], Y_df['y'], label='True')\n",
        "\n",
        "for models in ['Informer','Autoformer','PatchTST']:\n",
        "    plt.plot(nf_predict['ds'], nf_predict[models], label=models)\n",
        "plt.xlabel('Month')\n",
        "plt.ylabel('Passengers')\n",
        "plt.title('AirPassengers Prediction')\n",
        "plt.grid()\n",
        "plt.legend()\n",
        "plt.show()"
      ]
    }
  ],
  "metadata": {
    "accelerator": "GPU",
    "colab": {
      "gpuType": "T4",
      "provenance": [],
      "include_colab_link": true
    },
    "kernelspec": {
      "display_name": "Python 3 (ipykernel)",
      "language": "python",
      "name": "python3"
    },
    "language_info": {
      "codemirror_mode": {
        "name": "ipython",
        "version": 3
      },
      "file_extension": ".py",
      "mimetype": "text/x-python",
      "name": "python",
      "nbconvert_exporter": "python",
      "pygments_lexer": "ipython3",
      "version": "3.11.11"
    }
  },
  "nbformat": 4,
  "nbformat_minor": 5
}